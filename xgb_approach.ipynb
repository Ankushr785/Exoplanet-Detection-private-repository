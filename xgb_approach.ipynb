{
 "cells": [
  {
   "cell_type": "code",
   "execution_count": 1,
   "metadata": {},
   "outputs": [
    {
     "name": "stderr",
     "output_type": "stream",
     "text": [
      "/home/ankushraut/anaconda3/lib/python3.6/site-packages/sklearn/cross_validation.py:44: DeprecationWarning: This module was deprecated in version 0.18 in favor of the model_selection module into which all the refactored classes and functions are moved. Also note that the interface of the new CV iterators are different from that of this module. This module will be removed in 0.20.\n",
      "  \"This module will be removed in 0.20.\", DeprecationWarning)\n"
     ]
    }
   ],
   "source": [
    "import pandas as pd\n",
    "import numpy as np\n",
    "import matplotlib.pyplot as plt\n",
    "import os\n",
    "import xgboost as xgb\n",
    "from sklearn.cross_validation import train_test_split\n",
    "from sklearn.metrics import f1_score, confusion_matrix, roc_auc_score, auc, roc_curve\n",
    "from sklearn.model_selection import learning_curve\n",
    "\n",
    "os.chdir('/home/ankushraut/Downloads/inter_iit_tech')\n",
    "data = pd.read_csv('ExoTrain.csv')"
   ]
  },
  {
   "cell_type": "code",
   "execution_count": 2,
   "metadata": {},
   "outputs": [
    {
     "data": {
      "text/html": [
       "<div>\n",
       "<style>\n",
       "    .dataframe thead tr:only-child th {\n",
       "        text-align: right;\n",
       "    }\n",
       "\n",
       "    .dataframe thead th {\n",
       "        text-align: left;\n",
       "    }\n",
       "\n",
       "    .dataframe tbody tr th {\n",
       "        vertical-align: top;\n",
       "    }\n",
       "</style>\n",
       "<table border=\"1\" class=\"dataframe\">\n",
       "  <thead>\n",
       "    <tr style=\"text-align: right;\">\n",
       "      <th></th>\n",
       "      <th>LABEL</th>\n",
       "      <th>FLUX.1</th>\n",
       "      <th>FLUX.2</th>\n",
       "      <th>FLUX.3</th>\n",
       "      <th>FLUX.4</th>\n",
       "      <th>FLUX.5</th>\n",
       "      <th>FLUX.6</th>\n",
       "      <th>FLUX.7</th>\n",
       "      <th>FLUX.8</th>\n",
       "      <th>FLUX.9</th>\n",
       "      <th>...</th>\n",
       "      <th>FLUX.3188</th>\n",
       "      <th>FLUX.3189</th>\n",
       "      <th>FLUX.3190</th>\n",
       "      <th>FLUX.3191</th>\n",
       "      <th>FLUX.3192</th>\n",
       "      <th>FLUX.3193</th>\n",
       "      <th>FLUX.3194</th>\n",
       "      <th>FLUX.3195</th>\n",
       "      <th>FLUX.3196</th>\n",
       "      <th>FLUX.3197</th>\n",
       "    </tr>\n",
       "  </thead>\n",
       "  <tbody>\n",
       "    <tr>\n",
       "      <th>0</th>\n",
       "      <td>2</td>\n",
       "      <td>-38.88</td>\n",
       "      <td>-33.83</td>\n",
       "      <td>-58.54</td>\n",
       "      <td>-40.09</td>\n",
       "      <td>-79.31</td>\n",
       "      <td>-72.81</td>\n",
       "      <td>-86.55</td>\n",
       "      <td>-85.33</td>\n",
       "      <td>-83.97</td>\n",
       "      <td>...</td>\n",
       "      <td>-3.28</td>\n",
       "      <td>-32.21</td>\n",
       "      <td>-32.21</td>\n",
       "      <td>-24.89</td>\n",
       "      <td>-4.86</td>\n",
       "      <td>0.76</td>\n",
       "      <td>-11.70</td>\n",
       "      <td>6.46</td>\n",
       "      <td>16.00</td>\n",
       "      <td>19.93</td>\n",
       "    </tr>\n",
       "    <tr>\n",
       "      <th>1</th>\n",
       "      <td>2</td>\n",
       "      <td>532.64</td>\n",
       "      <td>535.92</td>\n",
       "      <td>513.73</td>\n",
       "      <td>496.92</td>\n",
       "      <td>456.45</td>\n",
       "      <td>466.00</td>\n",
       "      <td>464.50</td>\n",
       "      <td>486.39</td>\n",
       "      <td>436.56</td>\n",
       "      <td>...</td>\n",
       "      <td>-71.69</td>\n",
       "      <td>13.31</td>\n",
       "      <td>13.31</td>\n",
       "      <td>-29.89</td>\n",
       "      <td>-20.88</td>\n",
       "      <td>5.06</td>\n",
       "      <td>-11.80</td>\n",
       "      <td>-28.91</td>\n",
       "      <td>-70.02</td>\n",
       "      <td>-96.67</td>\n",
       "    </tr>\n",
       "    <tr>\n",
       "      <th>2</th>\n",
       "      <td>2</td>\n",
       "      <td>326.52</td>\n",
       "      <td>347.39</td>\n",
       "      <td>302.35</td>\n",
       "      <td>298.13</td>\n",
       "      <td>317.74</td>\n",
       "      <td>312.70</td>\n",
       "      <td>322.33</td>\n",
       "      <td>311.31</td>\n",
       "      <td>312.42</td>\n",
       "      <td>...</td>\n",
       "      <td>5.71</td>\n",
       "      <td>-3.73</td>\n",
       "      <td>-3.73</td>\n",
       "      <td>30.05</td>\n",
       "      <td>20.03</td>\n",
       "      <td>-12.67</td>\n",
       "      <td>-8.77</td>\n",
       "      <td>-17.31</td>\n",
       "      <td>-17.35</td>\n",
       "      <td>13.98</td>\n",
       "    </tr>\n",
       "    <tr>\n",
       "      <th>3</th>\n",
       "      <td>2</td>\n",
       "      <td>-1107.21</td>\n",
       "      <td>-1112.59</td>\n",
       "      <td>-1118.95</td>\n",
       "      <td>-1095.10</td>\n",
       "      <td>-1057.55</td>\n",
       "      <td>-1034.48</td>\n",
       "      <td>-998.34</td>\n",
       "      <td>-1022.71</td>\n",
       "      <td>-989.57</td>\n",
       "      <td>...</td>\n",
       "      <td>-594.37</td>\n",
       "      <td>-401.66</td>\n",
       "      <td>-401.66</td>\n",
       "      <td>-357.24</td>\n",
       "      <td>-443.76</td>\n",
       "      <td>-438.54</td>\n",
       "      <td>-399.71</td>\n",
       "      <td>-384.65</td>\n",
       "      <td>-411.79</td>\n",
       "      <td>-510.54</td>\n",
       "    </tr>\n",
       "    <tr>\n",
       "      <th>4</th>\n",
       "      <td>2</td>\n",
       "      <td>211.10</td>\n",
       "      <td>163.57</td>\n",
       "      <td>179.16</td>\n",
       "      <td>187.82</td>\n",
       "      <td>188.46</td>\n",
       "      <td>168.13</td>\n",
       "      <td>203.46</td>\n",
       "      <td>178.65</td>\n",
       "      <td>166.49</td>\n",
       "      <td>...</td>\n",
       "      <td>-98.45</td>\n",
       "      <td>30.34</td>\n",
       "      <td>30.34</td>\n",
       "      <td>29.62</td>\n",
       "      <td>28.80</td>\n",
       "      <td>19.27</td>\n",
       "      <td>-43.90</td>\n",
       "      <td>-41.63</td>\n",
       "      <td>-52.90</td>\n",
       "      <td>-16.16</td>\n",
       "    </tr>\n",
       "  </tbody>\n",
       "</table>\n",
       "<p>5 rows × 3198 columns</p>\n",
       "</div>"
      ],
      "text/plain": [
       "   LABEL   FLUX.1   FLUX.2   FLUX.3   FLUX.4   FLUX.5   FLUX.6  FLUX.7  \\\n",
       "0      2   -38.88   -33.83   -58.54   -40.09   -79.31   -72.81  -86.55   \n",
       "1      2   532.64   535.92   513.73   496.92   456.45   466.00  464.50   \n",
       "2      2   326.52   347.39   302.35   298.13   317.74   312.70  322.33   \n",
       "3      2 -1107.21 -1112.59 -1118.95 -1095.10 -1057.55 -1034.48 -998.34   \n",
       "4      2   211.10   163.57   179.16   187.82   188.46   168.13  203.46   \n",
       "\n",
       "    FLUX.8  FLUX.9    ...      FLUX.3188  FLUX.3189  FLUX.3190  FLUX.3191  \\\n",
       "0   -85.33  -83.97    ...          -3.28     -32.21     -32.21     -24.89   \n",
       "1   486.39  436.56    ...         -71.69      13.31      13.31     -29.89   \n",
       "2   311.31  312.42    ...           5.71      -3.73      -3.73      30.05   \n",
       "3 -1022.71 -989.57    ...        -594.37    -401.66    -401.66    -357.24   \n",
       "4   178.65  166.49    ...         -98.45      30.34      30.34      29.62   \n",
       "\n",
       "   FLUX.3192  FLUX.3193  FLUX.3194  FLUX.3195  FLUX.3196  FLUX.3197  \n",
       "0      -4.86       0.76     -11.70       6.46      16.00      19.93  \n",
       "1     -20.88       5.06     -11.80     -28.91     -70.02     -96.67  \n",
       "2      20.03     -12.67      -8.77     -17.31     -17.35      13.98  \n",
       "3    -443.76    -438.54    -399.71    -384.65    -411.79    -510.54  \n",
       "4      28.80      19.27     -43.90     -41.63     -52.90     -16.16  \n",
       "\n",
       "[5 rows x 3198 columns]"
      ]
     },
     "execution_count": 2,
     "metadata": {},
     "output_type": "execute_result"
    }
   ],
   "source": [
    "data.head()"
   ]
  },
  {
   "cell_type": "code",
   "execution_count": 3,
   "metadata": {},
   "outputs": [
    {
     "data": {
      "text/plain": [
       "1    3927\n",
       "2      33\n",
       "Name: LABEL, dtype: int64"
      ]
     },
     "execution_count": 3,
     "metadata": {},
     "output_type": "execute_result"
    }
   ],
   "source": [
    "target = pd.DataFrame({'LABEL':data.LABEL})\n",
    "data = data.drop(labels = ['LABEL'], axis = 1)\n",
    "target.LABEL.value_counts()"
   ]
  },
  {
   "cell_type": "code",
   "execution_count": 4,
   "metadata": {
    "collapsed": true
   },
   "outputs": [],
   "source": [
    "#random sampling into training and testing sets, test set contains 10% of the data\n",
    "\n",
    "x_data, x_test, y_data, y_test = train_test_split(data, target, test_size = 0.1, random_state = 7, stratify = target)\n",
    "x_data = x_data.reset_index(drop = True)\n",
    "x_test = x_test.reset_index(drop = True)\n",
    "y_data = y_data.reset_index(drop = True)\n",
    "y_test = y_test.reset_index(drop = True)"
   ]
  },
  {
   "cell_type": "code",
   "execution_count": 5,
   "metadata": {},
   "outputs": [
    {
     "data": {
      "text/plain": [
       "1    3534\n",
       "2      30\n",
       "Name: LABEL, dtype: int64"
      ]
     },
     "execution_count": 5,
     "metadata": {},
     "output_type": "execute_result"
    }
   ],
   "source": [
    "y_data.LABEL.value_counts()"
   ]
  },
  {
   "cell_type": "code",
   "execution_count": 6,
   "metadata": {},
   "outputs": [
    {
     "data": {
      "text/plain": [
       "1    393\n",
       "2      3\n",
       "Name: LABEL, dtype: int64"
      ]
     },
     "execution_count": 6,
     "metadata": {},
     "output_type": "execute_result"
    }
   ],
   "source": [
    "y_test.LABEL.value_counts()"
   ]
  },
  {
   "cell_type": "code",
   "execution_count": 7,
   "metadata": {
    "collapsed": true
   },
   "outputs": [],
   "source": [
    "#random sampling into training and validation sets, validation set contains 15% of the training data\n",
    "\n",
    "x_train, x_val, y_train, y_val = train_test_split(x_data, y_data, test_size = .15, random_state = 7, stratify = y_data)\n",
    "x_train = x_train.reset_index(drop = True)\n",
    "y_train = y_train.reset_index(drop = True)\n",
    "x_val = x_val.reset_index(drop = True)\n",
    "y_val = y_val.reset_index(drop = True)"
   ]
  },
  {
   "cell_type": "code",
   "execution_count": 8,
   "metadata": {},
   "outputs": [
    {
     "data": {
      "text/plain": [
       "1    530\n",
       "2      5\n",
       "Name: LABEL, dtype: int64"
      ]
     },
     "execution_count": 8,
     "metadata": {},
     "output_type": "execute_result"
    }
   ],
   "source": [
    "y_val.LABEL.value_counts()"
   ]
  },
  {
   "cell_type": "code",
   "execution_count": 9,
   "metadata": {},
   "outputs": [
    {
     "data": {
      "text/plain": [
       "1    3004\n",
       "2      25\n",
       "Name: LABEL, dtype: int64"
      ]
     },
     "execution_count": 9,
     "metadata": {},
     "output_type": "execute_result"
    }
   ],
   "source": [
    "y_train.LABEL.value_counts()"
   ]
  },
  {
   "cell_type": "code",
   "execution_count": 10,
   "metadata": {
    "scrolled": true
   },
   "outputs": [
    {
     "name": "stdout",
     "output_type": "stream",
     "text": [
      "macro f1 score on validation set =  0.497928062324\n",
      "macro f1 score on training set =  0.498098859316\n",
      "micro f1 score on validation set =  0.991746450974\n",
      "micro f1 score on training set =  0.992424242424\n"
     ]
    },
    {
     "name": "stderr",
     "output_type": "stream",
     "text": [
      "/home/ankushraut/anaconda3/lib/python3.6/site-packages/sklearn/metrics/classification.py:1113: UndefinedMetricWarning: F-score is ill-defined and being set to 0.0 in labels with no predicted samples.\n",
      "  'precision', 'predicted', average, warn_for)\n"
     ]
    }
   ],
   "source": [
    "#baseline approach : LABEL = 1\n",
    "val = np.ones(len(y_train))\n",
    "pred = np.ones(len(y_test))\n",
    "print('macro f1 score on validation set = ',f1_score(y_train.LABEL, val, average = 'macro'))\n",
    "print('macro f1 score on training set = ',f1_score(y_test.LABEL, pred, average = 'macro'))\n",
    "print('micro f1 score on validation set = ',f1_score(y_train.LABEL, val, average = 'micro'))\n",
    "print('micro f1 score on training set = ',f1_score(y_test.LABEL, pred, average = 'micro'))"
   ]
  },
  {
   "cell_type": "code",
   "execution_count": 11,
   "metadata": {
    "collapsed": true
   },
   "outputs": [],
   "source": [
    "#converting 1 -> 0 and 2 -> 1 for convenience\n",
    "\n",
    "def for_xgb(data):\n",
    "    if data == 1:\n",
    "        data = 0\n",
    "    else:\n",
    "        data = 1\n",
    "    return data\n",
    "\n",
    "y_train['LABEL'] = y_train['LABEL'].map(lambda x: for_xgb(x))\n",
    "y_test['LABEL'] = y_test['LABEL'].map(lambda x: for_xgb(x))\n",
    "y_val['LABEL'] = y_val['LABEL'].map(lambda x: for_xgb(x))"
   ]
  },
  {
   "cell_type": "code",
   "execution_count": 12,
   "metadata": {
    "scrolled": true
   },
   "outputs": [
    {
     "name": "stdout",
     "output_type": "stream",
     "text": [
      "[0]\ttrain-logloss:0.602233\teval-logloss:0.602442\n",
      "[1]\ttrain-logloss:0.527552\teval-logloss:0.528309\n",
      "[2]\ttrain-logloss:0.46566\teval-logloss:0.466585\n",
      "[3]\ttrain-logloss:0.413319\teval-logloss:0.414727\n",
      "[4]\ttrain-logloss:0.368611\teval-logloss:0.370147\n",
      "[5]\ttrain-logloss:0.330048\teval-logloss:0.331759\n",
      "[6]\ttrain-logloss:0.296485\teval-logloss:0.29832\n",
      "[7]\ttrain-logloss:0.267487\teval-logloss:0.269467\n",
      "[8]\ttrain-logloss:0.24196\teval-logloss:0.244166\n",
      "[9]\ttrain-logloss:0.21976\teval-logloss:0.222361\n",
      "[10]\ttrain-logloss:0.200125\teval-logloss:0.203311\n",
      "[11]\ttrain-logloss:0.182672\teval-logloss:0.186091\n",
      "[12]\ttrain-logloss:0.167336\teval-logloss:0.170989\n",
      "[13]\ttrain-logloss:0.153646\teval-logloss:0.15793\n",
      "[14]\ttrain-logloss:0.141545\teval-logloss:0.14644\n",
      "[15]\ttrain-logloss:0.130634\teval-logloss:0.136091\n",
      "[16]\ttrain-logloss:0.121029\teval-logloss:0.12701\n",
      "[17]\ttrain-logloss:0.1124\teval-logloss:0.118813\n",
      "[18]\ttrain-logloss:0.104687\teval-logloss:0.111634\n",
      "[19]\ttrain-logloss:0.097929\teval-logloss:0.105305\n",
      "[20]\ttrain-logloss:0.09169\teval-logloss:0.099522\n",
      "[21]\ttrain-logloss:0.08602\teval-logloss:0.094193\n",
      "[22]\ttrain-logloss:0.080953\teval-logloss:0.089589\n",
      "[23]\ttrain-logloss:0.076452\teval-logloss:0.085427\n",
      "[24]\ttrain-logloss:0.07241\teval-logloss:0.081556\n",
      "[25]\ttrain-logloss:0.068632\teval-logloss:0.077839\n",
      "[26]\ttrain-logloss:0.064907\teval-logloss:0.07502\n",
      "[27]\ttrain-logloss:0.061645\teval-logloss:0.072448\n",
      "[28]\ttrain-logloss:0.058758\teval-logloss:0.070064\n",
      "[29]\ttrain-logloss:0.056228\teval-logloss:0.067846\n",
      "[30]\ttrain-logloss:0.053794\teval-logloss:0.066113\n",
      "[31]\ttrain-logloss:0.051773\teval-logloss:0.064424\n",
      "[32]\ttrain-logloss:0.049891\teval-logloss:0.062626\n",
      "[33]\ttrain-logloss:0.047958\teval-logloss:0.061143\n",
      "[34]\ttrain-logloss:0.046183\teval-logloss:0.059674\n",
      "[35]\ttrain-logloss:0.044441\teval-logloss:0.058437\n",
      "[36]\ttrain-logloss:0.043031\teval-logloss:0.057302\n",
      "[37]\ttrain-logloss:0.041578\teval-logloss:0.05643\n",
      "[38]\ttrain-logloss:0.040169\teval-logloss:0.055446\n",
      "[39]\ttrain-logloss:0.038926\teval-logloss:0.054596\n",
      "[40]\ttrain-logloss:0.037706\teval-logloss:0.053862\n",
      "[41]\ttrain-logloss:0.036532\teval-logloss:0.053169\n",
      "[42]\ttrain-logloss:0.035638\teval-logloss:0.052646\n",
      "[43]\ttrain-logloss:0.034709\teval-logloss:0.052111\n",
      "[44]\ttrain-logloss:0.033705\teval-logloss:0.051757\n",
      "[45]\ttrain-logloss:0.033025\teval-logloss:0.051233\n",
      "[46]\ttrain-logloss:0.032309\teval-logloss:0.050825\n",
      "[47]\ttrain-logloss:0.031375\teval-logloss:0.050753\n",
      "[48]\ttrain-logloss:0.030648\teval-logloss:0.050482\n",
      "[49]\ttrain-logloss:0.030065\teval-logloss:0.050359\n",
      "[50]\ttrain-logloss:0.029362\teval-logloss:0.050372\n",
      "[51]\ttrain-logloss:0.028793\teval-logloss:0.050329\n",
      "[52]\ttrain-logloss:0.02822\teval-logloss:0.050245\n",
      "[53]\ttrain-logloss:0.027711\teval-logloss:0.049987\n",
      "[54]\ttrain-logloss:0.027129\teval-logloss:0.049569\n",
      "[55]\ttrain-logloss:0.026632\teval-logloss:0.049458\n",
      "[56]\ttrain-logloss:0.026052\teval-logloss:0.049395\n",
      "[57]\ttrain-logloss:0.025735\teval-logloss:0.049262\n",
      "[58]\ttrain-logloss:0.025284\teval-logloss:0.049253\n",
      "[59]\ttrain-logloss:0.024682\teval-logloss:0.049131\n",
      "[60]\ttrain-logloss:0.024187\teval-logloss:0.049133\n",
      "[61]\ttrain-logloss:0.023748\teval-logloss:0.049236\n",
      "[62]\ttrain-logloss:0.023278\teval-logloss:0.049188\n",
      "[63]\ttrain-logloss:0.023003\teval-logloss:0.049146\n",
      "[64]\ttrain-logloss:0.022516\teval-logloss:0.049024\n",
      "[65]\ttrain-logloss:0.022223\teval-logloss:0.048898\n",
      "[66]\ttrain-logloss:0.021924\teval-logloss:0.048961\n",
      "[67]\ttrain-logloss:0.021612\teval-logloss:0.048935\n",
      "[68]\ttrain-logloss:0.021277\teval-logloss:0.048686\n",
      "[69]\ttrain-logloss:0.020995\teval-logloss:0.048649\n",
      "[70]\ttrain-logloss:0.02067\teval-logloss:0.048746\n",
      "[71]\ttrain-logloss:0.02035\teval-logloss:0.04867\n",
      "[72]\ttrain-logloss:0.020062\teval-logloss:0.048618\n",
      "[73]\ttrain-logloss:0.019819\teval-logloss:0.048414\n",
      "[74]\ttrain-logloss:0.019653\teval-logloss:0.048325\n",
      "[75]\ttrain-logloss:0.019333\teval-logloss:0.048122\n",
      "[76]\ttrain-logloss:0.019076\teval-logloss:0.048246\n",
      "[77]\ttrain-logloss:0.018843\teval-logloss:0.048068\n",
      "[78]\ttrain-logloss:0.018607\teval-logloss:0.048201\n",
      "[79]\ttrain-logloss:0.018427\teval-logloss:0.04817\n",
      "[80]\ttrain-logloss:0.018214\teval-logloss:0.048132\n",
      "[81]\ttrain-logloss:0.01793\teval-logloss:0.047979\n",
      "[82]\ttrain-logloss:0.017761\teval-logloss:0.047838\n",
      "[83]\ttrain-logloss:0.017534\teval-logloss:0.04781\n",
      "[84]\ttrain-logloss:0.01735\teval-logloss:0.04786\n",
      "[85]\ttrain-logloss:0.017159\teval-logloss:0.047739\n",
      "[86]\ttrain-logloss:0.01698\teval-logloss:0.047872\n",
      "[87]\ttrain-logloss:0.01679\teval-logloss:0.047859\n",
      "[88]\ttrain-logloss:0.016669\teval-logloss:0.047802\n",
      "[89]\ttrain-logloss:0.016456\teval-logloss:0.047749\n",
      "[90]\ttrain-logloss:0.01632\teval-logloss:0.047725\n",
      "[91]\ttrain-logloss:0.016257\teval-logloss:0.04771\n",
      "[92]\ttrain-logloss:0.016133\teval-logloss:0.047707\n",
      "[93]\ttrain-logloss:0.015976\teval-logloss:0.047742\n",
      "[94]\ttrain-logloss:0.015937\teval-logloss:0.047715\n",
      "[95]\ttrain-logloss:0.015802\teval-logloss:0.047689\n",
      "[96]\ttrain-logloss:0.015644\teval-logloss:0.047747\n",
      "[97]\ttrain-logloss:0.015464\teval-logloss:0.047605\n",
      "[98]\ttrain-logloss:0.015424\teval-logloss:0.047611\n",
      "[99]\ttrain-logloss:0.015267\teval-logloss:0.047698\n"
     ]
    }
   ],
   "source": [
    "#xgboost\n",
    "\n",
    "#the model would output probabilities\n",
    "params = {\"objective\":\"binary:logistic\",\n",
    "          \"booster\":\"gbtree\",\n",
    "          \"eta\":0.1,\n",
    "          \"max_depth\": 10,\n",
    "         \"subsample\":0.75,\n",
    "          \"silent\":0,\n",
    "         \"seed\":7,\n",
    "         \"lambda\":5,\n",
    "         \"alpha\":5,\n",
    "         \"eval_metric\":\"logloss\"}\n",
    "\n",
    "#creating a dictionary to store progress\n",
    "\n",
    "progress = dict()\n",
    "\n",
    "num_boost_round = 100\n",
    "\n",
    "x_tr = x_train\n",
    "y_tr = y_train\n",
    "\n",
    "dtrain = xgb.DMatrix(x_tr, y_tr)\n",
    "dvalid = xgb.DMatrix(x_val, y_val) \n",
    "\n",
    "watchlist = [(dtrain, 'train'), (dvalid, 'eval')]\n",
    "\n",
    "booster = xgb.train(params, dtrain, num_boost_round, evals = watchlist, evals_result = progress)\n",
    "\n",
    "#training predictions\n",
    "training_probs = booster.predict(xgb.DMatrix(x_train))\n",
    "probs = []\n",
    "for i in range(len(training_probs)):\n",
    "    probs.append(training_probs[i])\n",
    "\n",
    "#validation predictions\n",
    "check = booster.predict(xgb.DMatrix(x_val))\n",
    "check_values = []\n",
    "for i in range(len(check)):\n",
    "    check_values.append(check[i])\n",
    "\n",
    "#test predictions\n",
    "tester = booster.predict(xgb.DMatrix(x_test))\n",
    "test_values = []\n",
    "for i in range(len(tester)):\n",
    "    test_values.append(tester[i])"
   ]
  },
  {
   "cell_type": "code",
   "execution_count": 13,
   "metadata": {},
   "outputs": [
    {
     "data": {
      "image/png": "[encoded data removed]",
      "text/plain": [
       "<matplotlib.figure.Figure at 0x7f8ed195eac8>"
      ]
     },
     "metadata": {},
     "output_type": "display_data"
    }
   ],
   "source": [
    "#visualizing the loss\n",
    "\n",
    "training_loss = progress['train']['logloss']\n",
    "validation_loss = progress['eval']['logloss']\n",
    "\n",
    "plt.figure(figsize = (12, 8))\n",
    "plt.plot(training_loss, color = 'blue', label = 'Training')\n",
    "plt.plot(validation_loss, color = 'red', label = 'Validation')\n",
    "plt.xlabel('epochs')\n",
    "plt.ylabel('loss')\n",
    "plt.title('Visualizing epochs')\n",
    "plt.legend()\n",
    "plt.show()"
   ]
  },
  {
   "cell_type": "code",
   "execution_count": 14,
   "metadata": {},
   "outputs": [
    {
     "name": "stdout",
     "output_type": "stream",
     "text": [
      "roc_auc_score of training set =  0.999933422104\n",
      "roc_auc_score of validation set =  0.820754716981\n",
      "roc_auc_score of test set =  0.75657336726\n"
     ]
    }
   ],
   "source": [
    "#checking auc_roc of all sets\n",
    "print('roc_auc_score of training set = ', roc_auc_score(y_train, probs))\n",
    "print('roc_auc_score of validation set = ', roc_auc_score(y_val, check_values))\n",
    "print('roc_auc_score of test set = ', roc_auc_score(y_test, test_values))"
   ]
  },
  {
   "cell_type": "code",
   "execution_count": 15,
   "metadata": {},
   "outputs": [
    {
     "data": {
      "image/png": "[encoded data removed]",
      "text/plain": [
       "<matplotlib.figure.Figure at 0x7f8e97541128>"
      ]
     },
     "metadata": {},
     "output_type": "display_data"
    }
   ],
   "source": [
    "#plotting ROC for training set\n",
    "\n",
    "# calculate the fpr and tpr for all thresholds of the classification\n",
    "fpr, tpr, threshold = roc_curve(y_train, probs)\n",
    "roc_auc = auc(fpr, tpr)\n",
    "\n",
    "plt.title('Receiver Operating Characteristic (Training set)')\n",
    "plt.plot(fpr, tpr, 'b', label = 'AUC = %0.2f' % roc_auc)\n",
    "plt.legend(loc = 'lower right')\n",
    "plt.plot([0, 1], [0, 1],'r--')\n",
    "plt.xlim([0, 1])\n",
    "plt.ylim([0, 1])\n",
    "plt.ylabel('True Positive Rate')\n",
    "plt.xlabel('False Positive Rate')\n",
    "plt.show()"
   ]
  },
  {
   "cell_type": "code",
   "execution_count": 16,
   "metadata": {},
   "outputs": [
    {
     "data": {
      "image/png": "[encoded data removed]",
      "text/plain": [
       "<matplotlib.figure.Figure at 0x7f8e974b4320>"
      ]
     },
     "metadata": {},
     "output_type": "display_data"
    }
   ],
   "source": [
    "#plotting ROC for validation set\n",
    "\n",
    "# calculate the fpr and tpr for all thresholds of the classification\n",
    "fpr, tpr, threshold = roc_curve(y_val, check_values)\n",
    "roc_auc = auc(fpr, tpr)\n",
    "\n",
    "plt.title('Receiver Operating Characteristic (Validation set)')\n",
    "plt.plot(fpr, tpr, 'b', label = 'AUC = %0.2f' % roc_auc)\n",
    "plt.legend(loc = 'lower right')\n",
    "plt.plot([0, 1], [0, 1],'r--')\n",
    "plt.xlim([0, 1])\n",
    "plt.ylim([0, 1])\n",
    "plt.ylabel('True Positive Rate')\n",
    "plt.xlabel('False Positive Rate')\n",
    "plt.show()"
   ]
  },
  {
   "cell_type": "code",
   "execution_count": 17,
   "metadata": {},
   "outputs": [
    {
     "data": {
      "image/png": "[encoded data removed]",
      "text/plain": [
       "<matplotlib.figure.Figure at 0x7f8e974742e8>"
      ]
     },
     "metadata": {},
     "output_type": "display_data"
    }
   ],
   "source": [
    "#plotting ROC for test set\n",
    "\n",
    "# calculate the fpr and tpr for all thresholds of the classification\n",
    "fpr, tpr, threshold = roc_curve(y_test, test_values)\n",
    "roc_auc = auc(fpr, tpr)\n",
    "\n",
    "plt.title('Receiver Operating Characteristic (Test set)')\n",
    "plt.plot(fpr, tpr, 'b', label = 'AUC = %0.2f' % roc_auc)\n",
    "plt.legend(loc = 'lower right')\n",
    "plt.plot([0, 1], [0, 1],'r--')\n",
    "plt.xlim([0, 1])\n",
    "plt.ylim([0, 1])\n",
    "plt.ylabel('True Positive Rate')\n",
    "plt.xlabel('False Positive Rate')\n",
    "plt.show()"
   ]
  },
  {
   "cell_type": "code",
   "execution_count": 18,
   "metadata": {
    "collapsed": true
   },
   "outputs": [],
   "source": [
    "#reverse conversion into original labels\n",
    "\n",
    "def reverse_xgb(data):\n",
    "    if data == 0:\n",
    "        data = 1\n",
    "    else:\n",
    "        data = 2\n",
    "    return data\n",
    "        \n",
    "y_train['LABEL'] = y_train['LABEL'].map(lambda x: reverse_xgb(x))\n",
    "y_test['LABEL'] = y_test['LABEL'].map(lambda x: reverse_xgb(x))\n",
    "y_val['LABEL'] = y_val['LABEL'].map(lambda x: reverse_xgb(x))"
   ]
  },
  {
   "cell_type": "code",
   "execution_count": 19,
   "metadata": {
    "collapsed": true
   },
   "outputs": [],
   "source": [
    "#creation of validation predictions\n",
    "\n",
    "validation = pd.DataFrame({'LABEL':check_values, 'actual':y_val})"
   ]
  },
  {
   "cell_type": "code",
   "execution_count": 20,
   "metadata": {
    "collapsed": true
   },
   "outputs": [],
   "source": [
    "#setting a threshold to separate probalities into the two different classes\n",
    "#threshold has been set by visualizing the ROC for all sets\n",
    "\n",
    "def converter(thresh, data):\n",
    "    if data <= thresh:\n",
    "        data = 1\n",
    "    else:\n",
    "        data = 2\n",
    "    return data\n",
    "\n",
    "validation['LABEL'] = validation['LABEL'].map(lambda x: converter(0.16, x))"
   ]
  },
  {
   "cell_type": "code",
   "execution_count": 21,
   "metadata": {},
   "outputs": [
    {
     "name": "stdout",
     "output_type": "stream",
     "text": [
      "micro f1 score of validation set =  0.98691588785\n",
      "macro f1 score of validation set =  0.60781233637\n"
     ]
    }
   ],
   "source": [
    "#micro f1 score = total f1-score of the dataset\n",
    "#macro f1 score = un-weighted average of f1 scores of individual classes\n",
    "\n",
    "\n",
    "#performance on validation set\n",
    "print('micro f1 score of validation set = ',f1_score(y_val, validation.LABEL, average = 'micro'))\n",
    "print('macro f1 score of validation set = ',f1_score(y_val, validation.LABEL, average = 'macro'))"
   ]
  },
  {
   "cell_type": "code",
   "execution_count": 22,
   "metadata": {
    "collapsed": true
   },
   "outputs": [],
   "source": [
    "#creation of training set predictions\n",
    "\n",
    "train_probs = pd.DataFrame({'LABEL':probs, 'actual':y_train})\n",
    "train_probs['LABEL'] = train_probs['LABEL'].map(lambda x: converter(0.16, x))"
   ]
  },
  {
   "cell_type": "code",
   "execution_count": 23,
   "metadata": {},
   "outputs": [
    {
     "name": "stdout",
     "output_type": "stream",
     "text": [
      "micro f1 score of training set =  0.999009574117\n",
      "macro f1_score of training set =  0.967835563878\n"
     ]
    }
   ],
   "source": [
    "#performance on training set\n",
    "\n",
    "print('micro f1 score of training set = ',f1_score(y_train, train_probs.LABEL, average = 'micro'))\n",
    "print('macro f1_score of training set = ',f1_score(y_train, train_probs.LABEL, average = 'macro'))"
   ]
  },
  {
   "cell_type": "code",
   "execution_count": 24,
   "metadata": {
    "collapsed": true
   },
   "outputs": [],
   "source": [
    "test_pred = pd.DataFrame({'LABEL':test_values, 'actual':y_test})\n",
    "test_pred['LABEL'] = test_pred['LABEL'].map(lambda x: converter(0.16, x))"
   ]
  },
  {
   "cell_type": "code",
   "execution_count": 25,
   "metadata": {},
   "outputs": [
    {
     "name": "stdout",
     "output_type": "stream",
     "text": [
      "micro f1 score of test set =  0.982323232323\n",
      "macro f1 score of test set =  0.495541401274\n"
     ]
    }
   ],
   "source": [
    "#performance on test set\n",
    "\n",
    "print('micro f1 score of test set = ',f1_score(y_test, test_pred.LABEL, average = 'micro'))\n",
    "print('macro f1 score of test set = ',f1_score(y_test, test_pred.LABEL, average = 'macro'))"
   ]
  },
  {
   "cell_type": "code",
   "execution_count": 26,
   "metadata": {},
   "outputs": [
    {
     "data": {
      "text/plain": [
       "array([[3004,    0],\n",
       "       [   3,   22]])"
      ]
     },
     "execution_count": 26,
     "metadata": {},
     "output_type": "execute_result"
    }
   ],
   "source": [
    "confusion_matrix(y_train, train_probs.LABEL)"
   ]
  },
  {
   "cell_type": "code",
   "execution_count": 27,
   "metadata": {},
   "outputs": [
    {
     "data": {
      "text/plain": [
       "array([[527,   3],\n",
       "       [  4,   1]])"
      ]
     },
     "execution_count": 27,
     "metadata": {},
     "output_type": "execute_result"
    }
   ],
   "source": [
    "confusion_matrix(y_val, validation.LABEL)"
   ]
  },
  {
   "cell_type": "code",
   "execution_count": 28,
   "metadata": {},
   "outputs": [
    {
     "data": {
      "text/plain": [
       "array([[389,   4],\n",
       "       [  3,   0]])"
      ]
     },
     "execution_count": 28,
     "metadata": {},
     "output_type": "execute_result"
    }
   ],
   "source": [
    "confusion_matrix(y_test, test_pred.LABEL)"
   ]
  },
  {
   "cell_type": "code",
   "execution_count": 29,
   "metadata": {
    "collapsed": true
   },
   "outputs": [],
   "source": [
    "#store results\n",
    "\n",
    "train_probs.to_csv('results_of_training_set.csv', index = False)\n",
    "validation.to_csv('results_of_validation_set.csv', index = False)\n",
    "test_pred.to_csv('results_of_test_set.csv', index = False)"
   ]
  }
 ],
 "metadata": {
  "kernelspec": {
   "display_name": "Python 3",
   "language": "python",
   "name": "python3"
  },
  "language_info": {
   "codemirror_mode": {
    "name": "ipython",
    "version": 3
   },
   "file_extension": ".py",
   "mimetype": "text/x-python",
   "name": "python",
   "nbconvert_exporter": "python",
   "pygments_lexer": "ipython3",
   "version": "3.6.1"
  }
 },
 "nbformat": 4,
 "nbformat_minor": 2
}
