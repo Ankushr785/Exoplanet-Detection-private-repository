{
 "cells": [
  {
   "cell_type": "code",
   "execution_count": 190,
   "metadata": {},
   "outputs": [],
   "source": [
    "import pandas as pd\n",
    "import numpy as np\n",
    "import matplotlib.pyplot as plt\n",
    "import os\n",
    "from sklearn.decomposition import PCA\n",
    "import xgboost as xgb\n",
    "from sklearn.cross_validation import train_test_split\n",
    "from sklearn.metrics import f1_score, confusion_matrix, roc_curve, auc, classification_report\n",
    "\n",
    "os.chdir('/home/ankushraut/Downloads/inter_iit_tech')\n",
    "data = pd.read_csv('ExoTrain.csv')"
   ]
  },
  {
   "cell_type": "code",
   "execution_count": 191,
   "metadata": {},
   "outputs": [
    {
     "data": {
      "text/html": [
       "<div>\n",
       "<style>\n",
       "    .dataframe thead tr:only-child th {\n",
       "        text-align: right;\n",
       "    }\n",
       "\n",
       "    .dataframe thead th {\n",
       "        text-align: left;\n",
       "    }\n",
       "\n",
       "    .dataframe tbody tr th {\n",
       "        vertical-align: top;\n",
       "    }\n",
       "</style>\n",
       "<table border=\"1\" class=\"dataframe\">\n",
       "  <thead>\n",
       "    <tr style=\"text-align: right;\">\n",
       "      <th></th>\n",
       "      <th>LABEL</th>\n",
       "      <th>FLUX.1</th>\n",
       "      <th>FLUX.2</th>\n",
       "      <th>FLUX.3</th>\n",
       "      <th>FLUX.4</th>\n",
       "      <th>FLUX.5</th>\n",
       "      <th>FLUX.6</th>\n",
       "      <th>FLUX.7</th>\n",
       "      <th>FLUX.8</th>\n",
       "      <th>FLUX.9</th>\n",
       "      <th>...</th>\n",
       "      <th>FLUX.3188</th>\n",
       "      <th>FLUX.3189</th>\n",
       "      <th>FLUX.3190</th>\n",
       "      <th>FLUX.3191</th>\n",
       "      <th>FLUX.3192</th>\n",
       "      <th>FLUX.3193</th>\n",
       "      <th>FLUX.3194</th>\n",
       "      <th>FLUX.3195</th>\n",
       "      <th>FLUX.3196</th>\n",
       "      <th>FLUX.3197</th>\n",
       "    </tr>\n",
       "  </thead>\n",
       "  <tbody>\n",
       "    <tr>\n",
       "      <th>0</th>\n",
       "      <td>2</td>\n",
       "      <td>-38.88</td>\n",
       "      <td>-33.83</td>\n",
       "      <td>-58.54</td>\n",
       "      <td>-40.09</td>\n",
       "      <td>-79.31</td>\n",
       "      <td>-72.81</td>\n",
       "      <td>-86.55</td>\n",
       "      <td>-85.33</td>\n",
       "      <td>-83.97</td>\n",
       "      <td>...</td>\n",
       "      <td>-3.28</td>\n",
       "      <td>-32.21</td>\n",
       "      <td>-32.21</td>\n",
       "      <td>-24.89</td>\n",
       "      <td>-4.86</td>\n",
       "      <td>0.76</td>\n",
       "      <td>-11.70</td>\n",
       "      <td>6.46</td>\n",
       "      <td>16.00</td>\n",
       "      <td>19.93</td>\n",
       "    </tr>\n",
       "    <tr>\n",
       "      <th>1</th>\n",
       "      <td>2</td>\n",
       "      <td>532.64</td>\n",
       "      <td>535.92</td>\n",
       "      <td>513.73</td>\n",
       "      <td>496.92</td>\n",
       "      <td>456.45</td>\n",
       "      <td>466.00</td>\n",
       "      <td>464.50</td>\n",
       "      <td>486.39</td>\n",
       "      <td>436.56</td>\n",
       "      <td>...</td>\n",
       "      <td>-71.69</td>\n",
       "      <td>13.31</td>\n",
       "      <td>13.31</td>\n",
       "      <td>-29.89</td>\n",
       "      <td>-20.88</td>\n",
       "      <td>5.06</td>\n",
       "      <td>-11.80</td>\n",
       "      <td>-28.91</td>\n",
       "      <td>-70.02</td>\n",
       "      <td>-96.67</td>\n",
       "    </tr>\n",
       "    <tr>\n",
       "      <th>2</th>\n",
       "      <td>2</td>\n",
       "      <td>326.52</td>\n",
       "      <td>347.39</td>\n",
       "      <td>302.35</td>\n",
       "      <td>298.13</td>\n",
       "      <td>317.74</td>\n",
       "      <td>312.70</td>\n",
       "      <td>322.33</td>\n",
       "      <td>311.31</td>\n",
       "      <td>312.42</td>\n",
       "      <td>...</td>\n",
       "      <td>5.71</td>\n",
       "      <td>-3.73</td>\n",
       "      <td>-3.73</td>\n",
       "      <td>30.05</td>\n",
       "      <td>20.03</td>\n",
       "      <td>-12.67</td>\n",
       "      <td>-8.77</td>\n",
       "      <td>-17.31</td>\n",
       "      <td>-17.35</td>\n",
       "      <td>13.98</td>\n",
       "    </tr>\n",
       "    <tr>\n",
       "      <th>3</th>\n",
       "      <td>2</td>\n",
       "      <td>-1107.21</td>\n",
       "      <td>-1112.59</td>\n",
       "      <td>-1118.95</td>\n",
       "      <td>-1095.10</td>\n",
       "      <td>-1057.55</td>\n",
       "      <td>-1034.48</td>\n",
       "      <td>-998.34</td>\n",
       "      <td>-1022.71</td>\n",
       "      <td>-989.57</td>\n",
       "      <td>...</td>\n",
       "      <td>-594.37</td>\n",
       "      <td>-401.66</td>\n",
       "      <td>-401.66</td>\n",
       "      <td>-357.24</td>\n",
       "      <td>-443.76</td>\n",
       "      <td>-438.54</td>\n",
       "      <td>-399.71</td>\n",
       "      <td>-384.65</td>\n",
       "      <td>-411.79</td>\n",
       "      <td>-510.54</td>\n",
       "    </tr>\n",
       "    <tr>\n",
       "      <th>4</th>\n",
       "      <td>2</td>\n",
       "      <td>211.10</td>\n",
       "      <td>163.57</td>\n",
       "      <td>179.16</td>\n",
       "      <td>187.82</td>\n",
       "      <td>188.46</td>\n",
       "      <td>168.13</td>\n",
       "      <td>203.46</td>\n",
       "      <td>178.65</td>\n",
       "      <td>166.49</td>\n",
       "      <td>...</td>\n",
       "      <td>-98.45</td>\n",
       "      <td>30.34</td>\n",
       "      <td>30.34</td>\n",
       "      <td>29.62</td>\n",
       "      <td>28.80</td>\n",
       "      <td>19.27</td>\n",
       "      <td>-43.90</td>\n",
       "      <td>-41.63</td>\n",
       "      <td>-52.90</td>\n",
       "      <td>-16.16</td>\n",
       "    </tr>\n",
       "  </tbody>\n",
       "</table>\n",
       "<p>5 rows × 3198 columns</p>\n",
       "</div>"
      ],
      "text/plain": [
       "   LABEL   FLUX.1   FLUX.2   FLUX.3   FLUX.4   FLUX.5   FLUX.6  FLUX.7  \\\n",
       "0      2   -38.88   -33.83   -58.54   -40.09   -79.31   -72.81  -86.55   \n",
       "1      2   532.64   535.92   513.73   496.92   456.45   466.00  464.50   \n",
       "2      2   326.52   347.39   302.35   298.13   317.74   312.70  322.33   \n",
       "3      2 -1107.21 -1112.59 -1118.95 -1095.10 -1057.55 -1034.48 -998.34   \n",
       "4      2   211.10   163.57   179.16   187.82   188.46   168.13  203.46   \n",
       "\n",
       "    FLUX.8  FLUX.9    ...      FLUX.3188  FLUX.3189  FLUX.3190  FLUX.3191  \\\n",
       "0   -85.33  -83.97    ...          -3.28     -32.21     -32.21     -24.89   \n",
       "1   486.39  436.56    ...         -71.69      13.31      13.31     -29.89   \n",
       "2   311.31  312.42    ...           5.71      -3.73      -3.73      30.05   \n",
       "3 -1022.71 -989.57    ...        -594.37    -401.66    -401.66    -357.24   \n",
       "4   178.65  166.49    ...         -98.45      30.34      30.34      29.62   \n",
       "\n",
       "   FLUX.3192  FLUX.3193  FLUX.3194  FLUX.3195  FLUX.3196  FLUX.3197  \n",
       "0      -4.86       0.76     -11.70       6.46      16.00      19.93  \n",
       "1     -20.88       5.06     -11.80     -28.91     -70.02     -96.67  \n",
       "2      20.03     -12.67      -8.77     -17.31     -17.35      13.98  \n",
       "3    -443.76    -438.54    -399.71    -384.65    -411.79    -510.54  \n",
       "4      28.80      19.27     -43.90     -41.63     -52.90     -16.16  \n",
       "\n",
       "[5 rows x 3198 columns]"
      ]
     },
     "execution_count": 191,
     "metadata": {},
     "output_type": "execute_result"
    }
   ],
   "source": [
    "data.head()"
   ]
  },
  {
   "cell_type": "code",
   "execution_count": 192,
   "metadata": {},
   "outputs": [
    {
     "data": {
      "text/plain": [
       "1    3927\n",
       "2      33\n",
       "Name: LABEL, dtype: int64"
      ]
     },
     "execution_count": 192,
     "metadata": {},
     "output_type": "execute_result"
    }
   ],
   "source": [
    "target = pd.DataFrame({'LABEL':data.LABEL})\n",
    "data = data.drop(labels = ['LABEL'], axis = 1)\n",
    "target.LABEL.value_counts()"
   ]
  },
  {
   "cell_type": "code",
   "execution_count": 193,
   "metadata": {
    "collapsed": true
   },
   "outputs": [],
   "source": [
    "x_data, x_test, y_data, y_test = train_test_split(data, target, test_size = 0.15, random_state = 7)\n",
    "x_data = x_data.reset_index(drop = True)\n",
    "x_test = x_test.reset_index(drop = True)\n",
    "y_data = y_data.reset_index(drop = True)\n",
    "y_test = y_test.reset_index(drop = True)"
   ]
  },
  {
   "cell_type": "code",
   "execution_count": 194,
   "metadata": {},
   "outputs": [
    {
     "data": {
      "text/plain": [
       "1    3335\n",
       "2      31\n",
       "Name: LABEL, dtype: int64"
      ]
     },
     "execution_count": 194,
     "metadata": {},
     "output_type": "execute_result"
    }
   ],
   "source": [
    "y_data.LABEL.value_counts()"
   ]
  },
  {
   "cell_type": "code",
   "execution_count": 195,
   "metadata": {},
   "outputs": [
    {
     "data": {
      "text/plain": [
       "1    592\n",
       "2      2\n",
       "Name: LABEL, dtype: int64"
      ]
     },
     "execution_count": 195,
     "metadata": {},
     "output_type": "execute_result"
    }
   ],
   "source": [
    "y_test.LABEL.value_counts()"
   ]
  },
  {
   "cell_type": "code",
   "execution_count": 196,
   "metadata": {
    "collapsed": true
   },
   "outputs": [],
   "source": [
    "x_train, x_val, y_train, y_val = train_test_split(x_data, y_data, test_size = .15, random_state = 7)\n",
    "x_train = x_train.reset_index(drop = True)\n",
    "y_train = y_train.reset_index(drop = True)\n",
    "x_val = x_val.reset_index(drop = True)\n",
    "y_val = y_val.reset_index(drop = True)"
   ]
  },
  {
   "cell_type": "code",
   "execution_count": 197,
   "metadata": {},
   "outputs": [
    {
     "data": {
      "text/plain": [
       "1    499\n",
       "2      6\n",
       "Name: LABEL, dtype: int64"
      ]
     },
     "execution_count": 197,
     "metadata": {},
     "output_type": "execute_result"
    }
   ],
   "source": [
    "y_val.LABEL.value_counts()"
   ]
  },
  {
   "cell_type": "code",
   "execution_count": 198,
   "metadata": {},
   "outputs": [
    {
     "data": {
      "text/plain": [
       "1    2836\n",
       "2      25\n",
       "Name: LABEL, dtype: int64"
      ]
     },
     "execution_count": 198,
     "metadata": {},
     "output_type": "execute_result"
    }
   ],
   "source": [
    "y_train.LABEL.value_counts()"
   ]
  },
  {
   "cell_type": "code",
   "execution_count": 199,
   "metadata": {
    "scrolled": true
   },
   "outputs": [
    {
     "name": "stdout",
     "output_type": "stream",
     "text": [
      "0.99561172547 0.998313659359\n"
     ]
    }
   ],
   "source": [
    "#baseline approach : LABEL = 1\n",
    "val = np.ones(len(y_train))\n",
    "pred = np.ones(len(y_test))\n",
    "print(f1_score(y_train.LABEL, val), f1_score(y_test.LABEL, pred))\n",
    "bm_score = f1_score(y_test.LABEL, pred)"
   ]
  },
  {
   "cell_type": "code",
   "execution_count": 200,
   "metadata": {
    "collapsed": true
   },
   "outputs": [],
   "source": [
    "def for_xgb(data):\n",
    "    if data == 1:\n",
    "        data = 0\n",
    "    else:\n",
    "        data = 1\n",
    "    return data\n",
    "\n",
    "y_train['LABEL'] = y_train['LABEL'].map(lambda x: for_xgb(x))\n",
    "y_test['LABEL'] = y_test['LABEL'].map(lambda x: for_xgb(x))\n",
    "y_val['LABEL'] = y_val['LABEL'].map(lambda x: for_xgb(x))"
   ]
  },
  {
   "cell_type": "code",
   "execution_count": 201,
   "metadata": {},
   "outputs": [
    {
     "data": {
      "text/html": [
       "<div>\n",
       "<style>\n",
       "    .dataframe thead tr:only-child th {\n",
       "        text-align: right;\n",
       "    }\n",
       "\n",
       "    .dataframe thead th {\n",
       "        text-align: left;\n",
       "    }\n",
       "\n",
       "    .dataframe tbody tr th {\n",
       "        vertical-align: top;\n",
       "    }\n",
       "</style>\n",
       "<table border=\"1\" class=\"dataframe\">\n",
       "  <thead>\n",
       "    <tr style=\"text-align: right;\">\n",
       "      <th></th>\n",
       "      <th>LABEL</th>\n",
       "    </tr>\n",
       "  </thead>\n",
       "  <tbody>\n",
       "    <tr>\n",
       "      <th>0</th>\n",
       "      <td>0</td>\n",
       "    </tr>\n",
       "    <tr>\n",
       "      <th>1</th>\n",
       "      <td>0</td>\n",
       "    </tr>\n",
       "    <tr>\n",
       "      <th>2</th>\n",
       "      <td>0</td>\n",
       "    </tr>\n",
       "    <tr>\n",
       "      <th>3</th>\n",
       "      <td>0</td>\n",
       "    </tr>\n",
       "    <tr>\n",
       "      <th>4</th>\n",
       "      <td>0</td>\n",
       "    </tr>\n",
       "  </tbody>\n",
       "</table>\n",
       "</div>"
      ],
      "text/plain": [
       "   LABEL\n",
       "0      0\n",
       "1      0\n",
       "2      0\n",
       "3      0\n",
       "4      0"
      ]
     },
     "execution_count": 201,
     "metadata": {},
     "output_type": "execute_result"
    }
   ],
   "source": [
    "y_val.head()"
   ]
  },
  {
   "cell_type": "code",
   "execution_count": 202,
   "metadata": {
    "scrolled": true
   },
   "outputs": [
    {
     "name": "stdout",
     "output_type": "stream",
     "text": [
      "[0]\ttrain-auc:0.5\teval-auc:0.5\n",
      "[1]\ttrain-auc:0.5\teval-auc:0.5\n",
      "[2]\ttrain-auc:0.5\teval-auc:0.5\n",
      "[3]\ttrain-auc:0.5\teval-auc:0.5\n",
      "[4]\ttrain-auc:0.538237\teval-auc:0.498998\n",
      "[5]\ttrain-auc:0.573639\teval-auc:0.490982\n",
      "[6]\ttrain-auc:0.573639\teval-auc:0.490982\n",
      "[7]\ttrain-auc:0.573639\teval-auc:0.490982\n",
      "[8]\ttrain-auc:0.573639\teval-auc:0.490982\n",
      "[9]\ttrain-auc:0.742172\teval-auc:0.550768\n",
      "[10]\ttrain-auc:0.741157\teval-auc:0.551937\n",
      "[11]\ttrain-auc:0.741079\teval-auc:0.55177\n",
      "[12]\ttrain-auc:0.740388\teval-auc:0.550434\n",
      "[13]\ttrain-auc:0.740388\teval-auc:0.550434\n",
      "[14]\ttrain-auc:0.739556\teval-auc:0.550768\n",
      "[15]\ttrain-auc:0.739281\teval-auc:0.549933\n",
      "[16]\ttrain-auc:0.890818\teval-auc:0.690882\n",
      "[17]\ttrain-auc:0.908688\teval-auc:0.685204\n",
      "[18]\ttrain-auc:0.908286\teval-auc:0.683868\n",
      "[19]\ttrain-auc:0.944295\teval-auc:0.677856\n",
      "[20]\ttrain-auc:0.944979\teval-auc:0.675017\n",
      "[21]\ttrain-auc:0.947609\teval-auc:0.670007\n",
      "[22]\ttrain-auc:0.946213\teval-auc:0.664997\n",
      "[23]\ttrain-auc:0.948181\teval-auc:0.663661\n",
      "[24]\ttrain-auc:0.948893\teval-auc:0.657649\n",
      "[25]\ttrain-auc:0.947884\teval-auc:0.654643\n",
      "[26]\ttrain-auc:0.948188\teval-auc:0.649967\n",
      "[27]\ttrain-auc:0.949908\teval-auc:0.643621\n",
      "[28]\ttrain-auc:0.949457\teval-auc:0.639112\n",
      "[29]\ttrain-auc:0.950282\teval-auc:0.637442\n",
      "[30]\ttrain-auc:0.967941\teval-auc:0.632432\n",
      "[31]\ttrain-auc:0.969323\teval-auc:0.636273\n",
      "[32]\ttrain-auc:0.970381\teval-auc:0.693721\n",
      "[33]\ttrain-auc:0.971368\teval-auc:0.743988\n",
      "[34]\ttrain-auc:0.973879\teval-auc:0.738978\n",
      "[35]\ttrain-auc:0.977066\teval-auc:0.740648\n",
      "[36]\ttrain-auc:0.977405\teval-auc:0.753173\n",
      "[37]\ttrain-auc:0.978449\teval-auc:0.757515\n",
      "[38]\ttrain-auc:0.981439\teval-auc:0.75668\n",
      "[39]\ttrain-auc:0.981989\teval-auc:0.755678\n",
      "[40]\ttrain-auc:0.984739\teval-auc:0.747829\n",
      "[41]\ttrain-auc:0.984781\teval-auc:0.741817\n",
      "[42]\ttrain-auc:0.98567\teval-auc:0.741149\n",
      "[43]\ttrain-auc:0.985755\teval-auc:0.742151\n",
      "[44]\ttrain-auc:0.986319\teval-auc:0.742652\n",
      "[45]\ttrain-auc:0.986728\teval-auc:0.740147\n",
      "[46]\ttrain-auc:0.98732\teval-auc:0.737141\n",
      "[47]\ttrain-auc:0.988858\teval-auc:0.734803\n",
      "[48]\ttrain-auc:0.989394\teval-auc:0.732298\n",
      "[49]\ttrain-auc:0.989972\teval-auc:0.735471\n",
      "[50]\ttrain-auc:0.991326\teval-auc:0.736306\n",
      "[51]\ttrain-auc:0.991763\teval-auc:0.733634\n",
      "[52]\ttrain-auc:0.992567\teval-auc:0.731463\n",
      "[53]\ttrain-auc:0.993639\teval-auc:0.783066\n",
      "[54]\ttrain-auc:0.994302\teval-auc:0.782398\n",
      "[55]\ttrain-auc:0.995275\teval-auc:0.809118\n",
      "[56]\ttrain-auc:0.995261\teval-auc:0.811623\n",
      "[57]\ttrain-auc:0.99536\teval-auc:0.807615\n",
      "[58]\ttrain-auc:0.995698\teval-auc:0.806279\n",
      "[59]\ttrain-auc:0.99622\teval-auc:0.801937\n",
      "[60]\ttrain-auc:0.996164\teval-auc:0.801603\n",
      "[61]\ttrain-auc:0.996516\teval-auc:0.797595\n",
      "[62]\ttrain-auc:0.996869\teval-auc:0.805611\n",
      "[63]\ttrain-auc:0.997123\teval-auc:0.806279\n",
      "[64]\ttrain-auc:0.997518\teval-auc:0.801937\n",
      "[65]\ttrain-auc:0.997772\teval-auc:0.803273\n",
      "[66]\ttrain-auc:0.998025\teval-auc:0.799933\n",
      "[67]\ttrain-auc:0.998209\teval-auc:0.797261\n",
      "[68]\ttrain-auc:0.998477\teval-auc:0.794255\n",
      "[69]\ttrain-auc:0.998618\teval-auc:0.789579\n",
      "[70]\ttrain-auc:0.998716\teval-auc:0.788243\n",
      "[71]\ttrain-auc:0.998801\teval-auc:0.789913\n",
      "[72]\ttrain-auc:0.998745\teval-auc:0.787909\n",
      "[73]\ttrain-auc:0.99897\teval-auc:0.787909\n",
      "[74]\ttrain-auc:0.999182\teval-auc:0.787575\n",
      "[75]\ttrain-auc:0.999351\teval-auc:0.795591\n",
      "[76]\ttrain-auc:0.99952\teval-auc:0.792585\n",
      "[77]\ttrain-auc:0.999591\teval-auc:0.791249\n",
      "[78]\ttrain-auc:0.99969\teval-auc:0.797261\n",
      "[79]\ttrain-auc:0.99969\teval-auc:0.798931\n",
      "[80]\ttrain-auc:0.999676\teval-auc:0.798263\n",
      "[81]\ttrain-auc:0.999662\teval-auc:0.799599\n",
      "[82]\ttrain-auc:0.999774\teval-auc:0.798263\n",
      "[83]\ttrain-auc:0.999817\teval-auc:0.798931\n",
      "[84]\ttrain-auc:0.999873\teval-auc:0.803607\n",
      "[85]\ttrain-auc:0.999887\teval-auc:0.805611\n",
      "[86]\ttrain-auc:0.999887\teval-auc:0.803273\n",
      "[87]\ttrain-auc:0.999915\teval-auc:0.804609\n",
      "[88]\ttrain-auc:0.999915\teval-auc:0.805611\n",
      "[89]\ttrain-auc:0.999944\teval-auc:0.802939\n",
      "[90]\ttrain-auc:0.999972\teval-auc:0.809285\n",
      "[91]\ttrain-auc:0.999972\teval-auc:0.810621\n",
      "[92]\ttrain-auc:0.999986\teval-auc:0.809953\n",
      "[93]\ttrain-auc:0.999986\teval-auc:0.814963\n",
      "[94]\ttrain-auc:0.999986\teval-auc:0.812625\n",
      "[95]\ttrain-auc:0.999986\teval-auc:0.817969\n",
      "[96]\ttrain-auc:0.999986\teval-auc:0.818637\n",
      "[97]\ttrain-auc:0.999986\teval-auc:0.819305\n",
      "[98]\ttrain-auc:1\teval-auc:0.821309\n",
      "[99]\ttrain-auc:1\teval-auc:0.820975\n"
     ]
    }
   ],
   "source": [
    "#baseline xgboost\n",
    "params = {\"objective\":\"binary:logistic\",\n",
    "          \"booster\":\"gbtree\",\n",
    "          \"eta\":0.1,\n",
    "          \"max_depth\": 10,\n",
    "         \"subsample\":0.75,\n",
    "          \"silent\":0,\n",
    "         \"seed\":7,\n",
    "         \"lambda\":5,\n",
    "         \"alpha\":5,\n",
    "         \"eval_metric\":\"auc\"}\n",
    "\n",
    "num_boost_round = 100\n",
    "\n",
    "x_tr = x_train\n",
    "y_tr = y_train\n",
    "\n",
    "dtrain = xgb.DMatrix(x_tr, y_tr)\n",
    "dvalid = xgb.DMatrix(x_val, y_val)\n",
    "\n",
    "watchlist = [(dtrain, 'train'), (dvalid, 'eval')]\n",
    "\n",
    "booster = xgb.train(params, dtrain, num_boost_round, evals = watchlist)\n",
    "\n",
    "training_probs = booster.predict(xgb.DMatrix(x_train))\n",
    "probs = []\n",
    "for i in range(len(training_probs)):\n",
    "    probs.append(training_probs[i])\n",
    "\n",
    "check = booster.predict(xgb.DMatrix(x_val))\n",
    "check_values = []\n",
    "for i in range(len(check)):\n",
    "    check_values.append(check[i])"
   ]
  },
  {
   "cell_type": "code",
   "execution_count": 203,
   "metadata": {},
   "outputs": [
    {
     "data": {
      "image/png": "[encoded data removed]",
      "text/plain": [
       "<matplotlib.figure.Figure at 0x7f1188666198>"
      ]
     },
     "metadata": {},
     "output_type": "display_data"
    }
   ],
   "source": [
    "# calculate the fpr and tpr for all thresholds of the classification\n",
    "fpr, tpr, threshold = roc_curve(y_val, check_values)\n",
    "roc_auc = auc(fpr, tpr)\n",
    "\n",
    "plt.title('Receiver Operating Characteristic')\n",
    "plt.plot(fpr, tpr, 'b', label = 'AUC = %0.2f' % roc_auc)\n",
    "plt.legend(loc = 'lower right')\n",
    "plt.plot([0, 1], [0, 1],'r--')\n",
    "plt.xlim([0, 1])\n",
    "plt.ylim([0, 1])\n",
    "plt.ylabel('True Positive Rate')\n",
    "plt.xlabel('False Positive Rate')\n",
    "plt.show()"
   ]
  },
  {
   "cell_type": "code",
   "execution_count": 204,
   "metadata": {
    "collapsed": true
   },
   "outputs": [],
   "source": [
    "validation = pd.DataFrame({'LABEL':check_values})"
   ]
  },
  {
   "cell_type": "code",
   "execution_count": 205,
   "metadata": {
    "collapsed": true
   },
   "outputs": [],
   "source": [
    "def converter(thresh, data):\n",
    "    if data <= thresh:\n",
    "        data = 1\n",
    "    else:\n",
    "        data = 2\n",
    "    return data\n",
    "\n",
    "validation['LABEL'] = validation['LABEL'].map(lambda x: converter(0.02, x))"
   ]
  },
  {
   "cell_type": "code",
   "execution_count": 206,
   "metadata": {},
   "outputs": [
    {
     "data": {
      "text/html": [
       "<div>\n",
       "<style>\n",
       "    .dataframe thead tr:only-child th {\n",
       "        text-align: right;\n",
       "    }\n",
       "\n",
       "    .dataframe thead th {\n",
       "        text-align: left;\n",
       "    }\n",
       "\n",
       "    .dataframe tbody tr th {\n",
       "        vertical-align: top;\n",
       "    }\n",
       "</style>\n",
       "<table border=\"1\" class=\"dataframe\">\n",
       "  <thead>\n",
       "    <tr style=\"text-align: right;\">\n",
       "      <th></th>\n",
       "      <th>LABEL</th>\n",
       "    </tr>\n",
       "  </thead>\n",
       "  <tbody>\n",
       "    <tr>\n",
       "      <th>0</th>\n",
       "      <td>2</td>\n",
       "    </tr>\n",
       "    <tr>\n",
       "      <th>1</th>\n",
       "      <td>1</td>\n",
       "    </tr>\n",
       "    <tr>\n",
       "      <th>2</th>\n",
       "      <td>1</td>\n",
       "    </tr>\n",
       "    <tr>\n",
       "      <th>3</th>\n",
       "      <td>1</td>\n",
       "    </tr>\n",
       "    <tr>\n",
       "      <th>4</th>\n",
       "      <td>1</td>\n",
       "    </tr>\n",
       "  </tbody>\n",
       "</table>\n",
       "</div>"
      ],
      "text/plain": [
       "   LABEL\n",
       "0      2\n",
       "1      1\n",
       "2      1\n",
       "3      1\n",
       "4      1"
      ]
     },
     "execution_count": 206,
     "metadata": {},
     "output_type": "execute_result"
    }
   ],
   "source": [
    "validation.head()"
   ]
  },
  {
   "cell_type": "code",
   "execution_count": 207,
   "metadata": {
    "collapsed": true
   },
   "outputs": [],
   "source": [
    "def reverse_xgb(data):\n",
    "    if data == 0:\n",
    "        data = 1\n",
    "    else:\n",
    "        data = 2\n",
    "    return data\n",
    "        \n",
    "y_train['LABEL'] = y_train['LABEL'].map(lambda x: reverse_xgb(x))\n",
    "y_test['LABEL'] = y_test['LABEL'].map(lambda x: reverse_xgb(x))\n",
    "y_val['LABEL'] = y_val['LABEL'].map(lambda x: reverse_xgb(x))"
   ]
  },
  {
   "cell_type": "code",
   "execution_count": 208,
   "metadata": {},
   "outputs": [
    {
     "name": "stdout",
     "output_type": "stream",
     "text": [
      "0.943277310924\n"
     ]
    },
    {
     "data": {
      "text/plain": [
       "array([[449,  50],\n",
       "       [  4,   2]])"
      ]
     },
     "execution_count": 208,
     "metadata": {},
     "output_type": "execute_result"
    }
   ],
   "source": [
    "print(f1_score(y_val, validation))\n",
    "confusion_matrix(y_val, validation, labels = [1,2])"
   ]
  },
  {
   "cell_type": "code",
   "execution_count": 209,
   "metadata": {},
   "outputs": [
    {
     "name": "stdout",
     "output_type": "stream",
     "text": [
      "             precision    recall  f1-score   support\n",
      "\n",
      "          1       0.99      0.90      0.94       499\n",
      "          2       0.04      0.33      0.07         6\n",
      "\n",
      "avg / total       0.98      0.89      0.93       505\n",
      "\n"
     ]
    }
   ],
   "source": [
    "print(classification_report(y_val, validation))"
   ]
  },
  {
   "cell_type": "code",
   "execution_count": 210,
   "metadata": {},
   "outputs": [],
   "source": [
    "train_probs = pd.DataFrame({'LABEL':probs})\n",
    "train_probs['LABEL'] = train_probs['LABEL'].map(lambda x: converter(0.02, x))"
   ]
  },
  {
   "cell_type": "code",
   "execution_count": 211,
   "metadata": {},
   "outputs": [
    {
     "name": "stdout",
     "output_type": "stream",
     "text": [
      "             precision    recall  f1-score   support\n",
      "\n",
      "          1       1.00      0.93      0.96      2836\n",
      "          2       0.11      1.00      0.20        25\n",
      "\n",
      "avg / total       0.99      0.93      0.96      2861\n",
      "\n"
     ]
    }
   ],
   "source": [
    "print(classification_report(y_train, train_probs))"
   ]
  },
  {
   "cell_type": "code",
   "execution_count": 212,
   "metadata": {},
   "outputs": [
    {
     "data": {
      "text/plain": [
       "array([[2635,  201],\n",
       "       [   0,   25]])"
      ]
     },
     "execution_count": 212,
     "metadata": {},
     "output_type": "execute_result"
    }
   ],
   "source": [
    "confusion_matrix(y_train, train_probs)"
   ]
  },
  {
   "cell_type": "code",
   "execution_count": 213,
   "metadata": {
    "collapsed": true
   },
   "outputs": [],
   "source": [
    "tester = booster.predict(xgb.DMatrix(x_test))\n",
    "test_values = []\n",
    "for i in range(len(tester)):\n",
    "    test_values.append(tester[i])"
   ]
  },
  {
   "cell_type": "code",
   "execution_count": 255,
   "metadata": {
    "collapsed": true
   },
   "outputs": [],
   "source": [
    "test_pred = pd.DataFrame({'LABEL':test_values})\n",
    "test_pred['LABEL'] = test_pred['LABEL'].map(lambda x: converter(0.004, x))"
   ]
  },
  {
   "cell_type": "code",
   "execution_count": 256,
   "metadata": {},
   "outputs": [
    {
     "name": "stdout",
     "output_type": "stream",
     "text": [
      "             precision    recall  f1-score   support\n",
      "\n",
      "          1       1.00      0.59      0.75       592\n",
      "          2       0.01      1.00      0.02         2\n",
      "\n",
      "avg / total       1.00      0.60      0.74       594\n",
      "\n"
     ]
    }
   ],
   "source": [
    "print(classification_report(y_test, test_pred))"
   ]
  },
  {
   "cell_type": "code",
   "execution_count": 257,
   "metadata": {},
   "outputs": [
    {
     "data": {
      "text/plain": [
       "array([[352, 240],\n",
       "       [  0,   2]])"
      ]
     },
     "execution_count": 257,
     "metadata": {},
     "output_type": "execute_result"
    }
   ],
   "source": [
    "confusion_matrix(y_test, test_pred)"
   ]
  },
  {
   "cell_type": "code",
   "execution_count": null,
   "metadata": {
    "collapsed": true
   },
   "outputs": [],
   "source": []
  }
 ],
 "metadata": {
  "kernelspec": {
   "display_name": "Python 3",
   "language": "python",
   "name": "python3"
  },
  "language_info": {
   "codemirror_mode": {
    "name": "ipython",
    "version": 3
   },
   "file_extension": ".py",
   "mimetype": "text/x-python",
   "name": "python",
   "nbconvert_exporter": "python",
   "pygments_lexer": "ipython3",
   "version": "3.6.1"
  }
 },
 "nbformat": 4,
 "nbformat_minor": 2
}
