{
 "cells": [
  {
   "cell_type": "code",
   "execution_count": 143,
   "metadata": {},
   "outputs": [],
   "source": [
    "import pandas as pd\n",
    "import numpy as np\n",
    "import matplotlib.pyplot as plt\n",
    "import os\n",
    "from sklearn.decomposition import PCA\n",
    "import xgboost as xgb\n",
    "from sklearn.cross_validation import train_test_split\n",
    "from sklearn.metrics import f1_score, confusion_matrix, roc_curve, auc, classification_report\n",
    "\n",
    "os.chdir('/home/ankushraut/Downloads/inter_iit_tech')\n",
    "data = pd.read_csv('ExoTrain.csv')"
   ]
  },
  {
   "cell_type": "code",
   "execution_count": 144,
   "metadata": {},
   "outputs": [
    {
     "data": {
      "text/html": [
       "<div>\n",
       "<style>\n",
       "    .dataframe thead tr:only-child th {\n",
       "        text-align: right;\n",
       "    }\n",
       "\n",
       "    .dataframe thead th {\n",
       "        text-align: left;\n",
       "    }\n",
       "\n",
       "    .dataframe tbody tr th {\n",
       "        vertical-align: top;\n",
       "    }\n",
       "</style>\n",
       "<table border=\"1\" class=\"dataframe\">\n",
       "  <thead>\n",
       "    <tr style=\"text-align: right;\">\n",
       "      <th></th>\n",
       "      <th>LABEL</th>\n",
       "      <th>FLUX.1</th>\n",
       "      <th>FLUX.2</th>\n",
       "      <th>FLUX.3</th>\n",
       "      <th>FLUX.4</th>\n",
       "      <th>FLUX.5</th>\n",
       "      <th>FLUX.6</th>\n",
       "      <th>FLUX.7</th>\n",
       "      <th>FLUX.8</th>\n",
       "      <th>FLUX.9</th>\n",
       "      <th>...</th>\n",
       "      <th>FLUX.3188</th>\n",
       "      <th>FLUX.3189</th>\n",
       "      <th>FLUX.3190</th>\n",
       "      <th>FLUX.3191</th>\n",
       "      <th>FLUX.3192</th>\n",
       "      <th>FLUX.3193</th>\n",
       "      <th>FLUX.3194</th>\n",
       "      <th>FLUX.3195</th>\n",
       "      <th>FLUX.3196</th>\n",
       "      <th>FLUX.3197</th>\n",
       "    </tr>\n",
       "  </thead>\n",
       "  <tbody>\n",
       "    <tr>\n",
       "      <th>0</th>\n",
       "      <td>2</td>\n",
       "      <td>-38.88</td>\n",
       "      <td>-33.83</td>\n",
       "      <td>-58.54</td>\n",
       "      <td>-40.09</td>\n",
       "      <td>-79.31</td>\n",
       "      <td>-72.81</td>\n",
       "      <td>-86.55</td>\n",
       "      <td>-85.33</td>\n",
       "      <td>-83.97</td>\n",
       "      <td>...</td>\n",
       "      <td>-3.28</td>\n",
       "      <td>-32.21</td>\n",
       "      <td>-32.21</td>\n",
       "      <td>-24.89</td>\n",
       "      <td>-4.86</td>\n",
       "      <td>0.76</td>\n",
       "      <td>-11.70</td>\n",
       "      <td>6.46</td>\n",
       "      <td>16.00</td>\n",
       "      <td>19.93</td>\n",
       "    </tr>\n",
       "    <tr>\n",
       "      <th>1</th>\n",
       "      <td>2</td>\n",
       "      <td>532.64</td>\n",
       "      <td>535.92</td>\n",
       "      <td>513.73</td>\n",
       "      <td>496.92</td>\n",
       "      <td>456.45</td>\n",
       "      <td>466.00</td>\n",
       "      <td>464.50</td>\n",
       "      <td>486.39</td>\n",
       "      <td>436.56</td>\n",
       "      <td>...</td>\n",
       "      <td>-71.69</td>\n",
       "      <td>13.31</td>\n",
       "      <td>13.31</td>\n",
       "      <td>-29.89</td>\n",
       "      <td>-20.88</td>\n",
       "      <td>5.06</td>\n",
       "      <td>-11.80</td>\n",
       "      <td>-28.91</td>\n",
       "      <td>-70.02</td>\n",
       "      <td>-96.67</td>\n",
       "    </tr>\n",
       "    <tr>\n",
       "      <th>2</th>\n",
       "      <td>2</td>\n",
       "      <td>326.52</td>\n",
       "      <td>347.39</td>\n",
       "      <td>302.35</td>\n",
       "      <td>298.13</td>\n",
       "      <td>317.74</td>\n",
       "      <td>312.70</td>\n",
       "      <td>322.33</td>\n",
       "      <td>311.31</td>\n",
       "      <td>312.42</td>\n",
       "      <td>...</td>\n",
       "      <td>5.71</td>\n",
       "      <td>-3.73</td>\n",
       "      <td>-3.73</td>\n",
       "      <td>30.05</td>\n",
       "      <td>20.03</td>\n",
       "      <td>-12.67</td>\n",
       "      <td>-8.77</td>\n",
       "      <td>-17.31</td>\n",
       "      <td>-17.35</td>\n",
       "      <td>13.98</td>\n",
       "    </tr>\n",
       "    <tr>\n",
       "      <th>3</th>\n",
       "      <td>2</td>\n",
       "      <td>-1107.21</td>\n",
       "      <td>-1112.59</td>\n",
       "      <td>-1118.95</td>\n",
       "      <td>-1095.10</td>\n",
       "      <td>-1057.55</td>\n",
       "      <td>-1034.48</td>\n",
       "      <td>-998.34</td>\n",
       "      <td>-1022.71</td>\n",
       "      <td>-989.57</td>\n",
       "      <td>...</td>\n",
       "      <td>-594.37</td>\n",
       "      <td>-401.66</td>\n",
       "      <td>-401.66</td>\n",
       "      <td>-357.24</td>\n",
       "      <td>-443.76</td>\n",
       "      <td>-438.54</td>\n",
       "      <td>-399.71</td>\n",
       "      <td>-384.65</td>\n",
       "      <td>-411.79</td>\n",
       "      <td>-510.54</td>\n",
       "    </tr>\n",
       "    <tr>\n",
       "      <th>4</th>\n",
       "      <td>2</td>\n",
       "      <td>211.10</td>\n",
       "      <td>163.57</td>\n",
       "      <td>179.16</td>\n",
       "      <td>187.82</td>\n",
       "      <td>188.46</td>\n",
       "      <td>168.13</td>\n",
       "      <td>203.46</td>\n",
       "      <td>178.65</td>\n",
       "      <td>166.49</td>\n",
       "      <td>...</td>\n",
       "      <td>-98.45</td>\n",
       "      <td>30.34</td>\n",
       "      <td>30.34</td>\n",
       "      <td>29.62</td>\n",
       "      <td>28.80</td>\n",
       "      <td>19.27</td>\n",
       "      <td>-43.90</td>\n",
       "      <td>-41.63</td>\n",
       "      <td>-52.90</td>\n",
       "      <td>-16.16</td>\n",
       "    </tr>\n",
       "  </tbody>\n",
       "</table>\n",
       "<p>5 rows × 3198 columns</p>\n",
       "</div>"
      ],
      "text/plain": [
       "   LABEL   FLUX.1   FLUX.2   FLUX.3   FLUX.4   FLUX.5   FLUX.6  FLUX.7  \\\n",
       "0      2   -38.88   -33.83   -58.54   -40.09   -79.31   -72.81  -86.55   \n",
       "1      2   532.64   535.92   513.73   496.92   456.45   466.00  464.50   \n",
       "2      2   326.52   347.39   302.35   298.13   317.74   312.70  322.33   \n",
       "3      2 -1107.21 -1112.59 -1118.95 -1095.10 -1057.55 -1034.48 -998.34   \n",
       "4      2   211.10   163.57   179.16   187.82   188.46   168.13  203.46   \n",
       "\n",
       "    FLUX.8  FLUX.9    ...      FLUX.3188  FLUX.3189  FLUX.3190  FLUX.3191  \\\n",
       "0   -85.33  -83.97    ...          -3.28     -32.21     -32.21     -24.89   \n",
       "1   486.39  436.56    ...         -71.69      13.31      13.31     -29.89   \n",
       "2   311.31  312.42    ...           5.71      -3.73      -3.73      30.05   \n",
       "3 -1022.71 -989.57    ...        -594.37    -401.66    -401.66    -357.24   \n",
       "4   178.65  166.49    ...         -98.45      30.34      30.34      29.62   \n",
       "\n",
       "   FLUX.3192  FLUX.3193  FLUX.3194  FLUX.3195  FLUX.3196  FLUX.3197  \n",
       "0      -4.86       0.76     -11.70       6.46      16.00      19.93  \n",
       "1     -20.88       5.06     -11.80     -28.91     -70.02     -96.67  \n",
       "2      20.03     -12.67      -8.77     -17.31     -17.35      13.98  \n",
       "3    -443.76    -438.54    -399.71    -384.65    -411.79    -510.54  \n",
       "4      28.80      19.27     -43.90     -41.63     -52.90     -16.16  \n",
       "\n",
       "[5 rows x 3198 columns]"
      ]
     },
     "execution_count": 144,
     "metadata": {},
     "output_type": "execute_result"
    }
   ],
   "source": [
    "data.head()"
   ]
  },
  {
   "cell_type": "code",
   "execution_count": 145,
   "metadata": {},
   "outputs": [
    {
     "data": {
      "text/plain": [
       "1    3927\n",
       "2      33\n",
       "Name: LABEL, dtype: int64"
      ]
     },
     "execution_count": 145,
     "metadata": {},
     "output_type": "execute_result"
    }
   ],
   "source": [
    "target = pd.DataFrame({'LABEL':data.LABEL})\n",
    "data = data.drop(labels = ['LABEL'], axis = 1)\n",
    "target.LABEL.value_counts()"
   ]
  },
  {
   "cell_type": "code",
   "execution_count": 146,
   "metadata": {
    "collapsed": true
   },
   "outputs": [],
   "source": [
    "#random sampling into training and testing sets\n",
    "\n",
    "x_data, x_test, y_data, y_test = train_test_split(data, target, test_size = 0.1, random_state = 7)\n",
    "x_data = x_data.reset_index(drop = True)\n",
    "x_test = x_test.reset_index(drop = True)\n",
    "y_data = y_data.reset_index(drop = True)\n",
    "y_test = y_test.reset_index(drop = True)"
   ]
  },
  {
   "cell_type": "code",
   "execution_count": 147,
   "metadata": {},
   "outputs": [
    {
     "data": {
      "text/plain": [
       "1    3532\n",
       "2      32\n",
       "Name: LABEL, dtype: int64"
      ]
     },
     "execution_count": 147,
     "metadata": {},
     "output_type": "execute_result"
    }
   ],
   "source": [
    "y_data.LABEL.value_counts()"
   ]
  },
  {
   "cell_type": "code",
   "execution_count": 148,
   "metadata": {},
   "outputs": [
    {
     "data": {
      "text/plain": [
       "1    395\n",
       "2      1\n",
       "Name: LABEL, dtype: int64"
      ]
     },
     "execution_count": 148,
     "metadata": {},
     "output_type": "execute_result"
    }
   ],
   "source": [
    "y_test.LABEL.value_counts()"
   ]
  },
  {
   "cell_type": "code",
   "execution_count": 149,
   "metadata": {
    "collapsed": true
   },
   "outputs": [],
   "source": [
    "#random sampling into training and validation sets\n",
    "\n",
    "x_train, x_val, y_train, y_val = train_test_split(x_data, y_data, test_size = .15, random_state = 7)\n",
    "x_train = x_train.reset_index(drop = True)\n",
    "y_train = y_train.reset_index(drop = True)\n",
    "x_val = x_val.reset_index(drop = True)\n",
    "y_val = y_val.reset_index(drop = True)"
   ]
  },
  {
   "cell_type": "code",
   "execution_count": 150,
   "metadata": {},
   "outputs": [
    {
     "data": {
      "text/plain": [
       "1    530\n",
       "2      5\n",
       "Name: LABEL, dtype: int64"
      ]
     },
     "execution_count": 150,
     "metadata": {},
     "output_type": "execute_result"
    }
   ],
   "source": [
    "y_val.LABEL.value_counts()"
   ]
  },
  {
   "cell_type": "code",
   "execution_count": 151,
   "metadata": {},
   "outputs": [
    {
     "data": {
      "text/plain": [
       "1    3002\n",
       "2      27\n",
       "Name: LABEL, dtype: int64"
      ]
     },
     "execution_count": 151,
     "metadata": {},
     "output_type": "execute_result"
    }
   ],
   "source": [
    "y_train.LABEL.value_counts()"
   ]
  },
  {
   "cell_type": "code",
   "execution_count": 152,
   "metadata": {
    "scrolled": true
   },
   "outputs": [
    {
     "name": "stdout",
     "output_type": "stream",
     "text": [
      "0.995523130492 0.998735777497\n"
     ]
    }
   ],
   "source": [
    "#baseline approach : LABEL = 1\n",
    "val = np.ones(len(y_train))\n",
    "pred = np.ones(len(y_test))\n",
    "print(f1_score(y_train.LABEL, val), f1_score(y_test.LABEL, pred))\n",
    "bm_score = f1_score(y_test.LABEL, pred)"
   ]
  },
  {
   "cell_type": "code",
   "execution_count": 153,
   "metadata": {
    "collapsed": true
   },
   "outputs": [],
   "source": [
    "#converting 1 -> 0 and 2 -> 1 for convenience\n",
    "\n",
    "def for_xgb(data):\n",
    "    if data == 1:\n",
    "        data = 0\n",
    "    else:\n",
    "        data = 1\n",
    "    return data\n",
    "\n",
    "y_train['LABEL'] = y_train['LABEL'].map(lambda x: for_xgb(x))\n",
    "y_test['LABEL'] = y_test['LABEL'].map(lambda x: for_xgb(x))\n",
    "y_val['LABEL'] = y_val['LABEL'].map(lambda x: for_xgb(x))"
   ]
  },
  {
   "cell_type": "code",
   "execution_count": 154,
   "metadata": {},
   "outputs": [
    {
     "data": {
      "text/html": [
       "<div>\n",
       "<style>\n",
       "    .dataframe thead tr:only-child th {\n",
       "        text-align: right;\n",
       "    }\n",
       "\n",
       "    .dataframe thead th {\n",
       "        text-align: left;\n",
       "    }\n",
       "\n",
       "    .dataframe tbody tr th {\n",
       "        vertical-align: top;\n",
       "    }\n",
       "</style>\n",
       "<table border=\"1\" class=\"dataframe\">\n",
       "  <thead>\n",
       "    <tr style=\"text-align: right;\">\n",
       "      <th></th>\n",
       "      <th>LABEL</th>\n",
       "    </tr>\n",
       "  </thead>\n",
       "  <tbody>\n",
       "    <tr>\n",
       "      <th>0</th>\n",
       "      <td>0</td>\n",
       "    </tr>\n",
       "    <tr>\n",
       "      <th>1</th>\n",
       "      <td>0</td>\n",
       "    </tr>\n",
       "    <tr>\n",
       "      <th>2</th>\n",
       "      <td>0</td>\n",
       "    </tr>\n",
       "    <tr>\n",
       "      <th>3</th>\n",
       "      <td>0</td>\n",
       "    </tr>\n",
       "    <tr>\n",
       "      <th>4</th>\n",
       "      <td>0</td>\n",
       "    </tr>\n",
       "  </tbody>\n",
       "</table>\n",
       "</div>"
      ],
      "text/plain": [
       "   LABEL\n",
       "0      0\n",
       "1      0\n",
       "2      0\n",
       "3      0\n",
       "4      0"
      ]
     },
     "execution_count": 154,
     "metadata": {},
     "output_type": "execute_result"
    }
   ],
   "source": [
    "y_val.head()"
   ]
  },
  {
   "cell_type": "code",
   "execution_count": 155,
   "metadata": {
    "scrolled": true
   },
   "outputs": [
    {
     "name": "stdout",
     "output_type": "stream",
     "text": [
      "[0]\ttrain-auc:0.5\teval-auc:0.5\n",
      "[1]\ttrain-auc:0.535871\teval-auc:0.495283\n",
      "[2]\ttrain-auc:0.535871\teval-auc:0.495283\n",
      "[3]\ttrain-auc:0.535871\teval-auc:0.495283\n",
      "[4]\ttrain-auc:0.535871\teval-auc:0.495283\n",
      "[5]\ttrain-auc:0.587658\teval-auc:0.487736\n",
      "[6]\ttrain-auc:0.587658\teval-auc:0.487736\n",
      "[7]\ttrain-auc:0.58688\teval-auc:0.486792\n",
      "[8]\ttrain-auc:0.603542\teval-auc:0.484906\n",
      "[9]\ttrain-auc:0.603178\teval-auc:0.483962\n",
      "[10]\ttrain-auc:0.602463\teval-auc:0.483962\n",
      "[11]\ttrain-auc:0.61913\teval-auc:0.481132\n",
      "[12]\ttrain-auc:0.618822\teval-auc:0.481132\n",
      "[13]\ttrain-auc:0.754306\teval-auc:0.552264\n",
      "[14]\ttrain-auc:0.754041\teval-auc:0.552264\n",
      "[15]\ttrain-auc:0.753868\teval-auc:0.552264\n",
      "[16]\ttrain-auc:0.786155\teval-auc:0.544528\n",
      "[17]\ttrain-auc:0.785415\teval-auc:0.637358\n",
      "[18]\ttrain-auc:0.907741\teval-auc:0.72434\n",
      "[19]\ttrain-auc:0.907987\teval-auc:0.725849\n",
      "[20]\ttrain-auc:0.906457\teval-auc:0.722642\n",
      "[21]\ttrain-auc:0.910979\teval-auc:0.721509\n",
      "[22]\ttrain-auc:0.910578\teval-auc:0.721887\n",
      "[23]\ttrain-auc:0.911886\teval-auc:0.718113\n",
      "[24]\ttrain-auc:0.926605\teval-auc:0.718113\n",
      "[25]\ttrain-auc:0.944272\teval-auc:0.71434\n",
      "[26]\ttrain-auc:0.945542\teval-auc:0.709057\n",
      "[27]\ttrain-auc:0.946431\teval-auc:0.703774\n",
      "[28]\ttrain-auc:0.963099\teval-auc:0.7\n",
      "[29]\ttrain-auc:0.96379\teval-auc:0.701509\n",
      "[30]\ttrain-auc:0.964783\teval-auc:0.701132\n",
      "[31]\ttrain-auc:0.964653\teval-auc:0.693585\n",
      "[32]\ttrain-auc:0.964191\teval-auc:0.692075\n",
      "[33]\ttrain-auc:0.967528\teval-auc:0.686038\n",
      "[34]\ttrain-auc:0.972031\teval-auc:0.741132\n",
      "[35]\ttrain-auc:0.97398\teval-auc:0.730189\n",
      "[36]\ttrain-auc:0.97551\teval-auc:0.719245\n",
      "[37]\ttrain-auc:0.977385\teval-auc:0.721132\n",
      "[38]\ttrain-auc:0.980087\teval-auc:0.720943\n",
      "[39]\ttrain-auc:0.979174\teval-auc:0.721698\n",
      "[40]\ttrain-auc:0.981987\teval-auc:0.77283\n",
      "[41]\ttrain-auc:0.983542\teval-auc:0.765094\n",
      "[42]\ttrain-auc:0.984504\teval-auc:0.765094\n",
      "[43]\ttrain-auc:0.984887\teval-auc:0.760943\n",
      "[44]\ttrain-auc:0.986478\teval-auc:0.770566\n",
      "[45]\ttrain-auc:0.988613\teval-auc:0.763208\n",
      "[46]\ttrain-auc:0.988464\teval-auc:0.763962\n",
      "[47]\ttrain-auc:0.989131\teval-auc:0.763019\n",
      "[48]\ttrain-auc:0.990574\teval-auc:0.756604\n",
      "[49]\ttrain-auc:0.991771\teval-auc:0.770566\n",
      "[50]\ttrain-auc:0.992857\teval-auc:0.784528\n",
      "[51]\ttrain-auc:0.993177\teval-auc:0.783774\n",
      "[52]\ttrain-auc:0.994053\teval-auc:0.780755\n",
      "[53]\ttrain-auc:0.994473\teval-auc:0.773585\n",
      "[54]\ttrain-auc:0.995299\teval-auc:0.798491\n",
      "[55]\ttrain-auc:0.995484\teval-auc:0.796226\n",
      "[56]\ttrain-auc:0.995744\teval-auc:0.792453\n",
      "[57]\ttrain-auc:0.99641\teval-auc:0.795472\n",
      "[58]\ttrain-auc:0.996644\teval-auc:0.805283\n",
      "[59]\ttrain-auc:0.996694\teval-auc:0.801509\n",
      "[60]\ttrain-auc:0.996755\teval-auc:0.801887\n",
      "[61]\ttrain-auc:0.996842\teval-auc:0.8\n",
      "[62]\ttrain-auc:0.997298\teval-auc:0.810189\n",
      "[63]\ttrain-auc:0.997619\teval-auc:0.811321\n",
      "[64]\ttrain-auc:0.998038\teval-auc:0.809811\n",
      "[65]\ttrain-auc:0.998051\teval-auc:0.806415\n",
      "[66]\ttrain-auc:0.998051\teval-auc:0.808302\n",
      "[67]\ttrain-auc:0.998384\teval-auc:0.818868\n",
      "[68]\ttrain-auc:0.998655\teval-auc:0.828302\n",
      "[69]\ttrain-auc:0.99884\teval-auc:0.82717\n",
      "[70]\ttrain-auc:0.999001\teval-auc:0.829811\n",
      "[71]\ttrain-auc:0.999087\teval-auc:0.828302\n",
      "[72]\ttrain-auc:0.999087\teval-auc:0.827547\n",
      "[73]\ttrain-auc:0.999198\teval-auc:0.82566\n",
      "[74]\ttrain-auc:0.999297\teval-auc:0.830189\n",
      "[75]\ttrain-auc:0.999371\teval-auc:0.835472\n",
      "[76]\ttrain-auc:0.999494\teval-auc:0.833962\n",
      "[77]\ttrain-auc:0.999568\teval-auc:0.830189\n",
      "[78]\ttrain-auc:0.999618\teval-auc:0.830943\n",
      "[79]\ttrain-auc:0.99963\teval-auc:0.830189\n",
      "[80]\ttrain-auc:0.999618\teval-auc:0.828679\n",
      "[81]\ttrain-auc:0.999618\teval-auc:0.82717\n",
      "[82]\ttrain-auc:0.999655\teval-auc:0.826038\n",
      "[83]\ttrain-auc:0.999704\teval-auc:0.826415\n",
      "[84]\ttrain-auc:0.999716\teval-auc:0.826415\n",
      "[85]\ttrain-auc:0.999716\teval-auc:0.82566\n",
      "[86]\ttrain-auc:0.999741\teval-auc:0.82\n",
      "[87]\ttrain-auc:0.999741\teval-auc:0.82\n",
      "[88]\ttrain-auc:0.999741\teval-auc:0.820377\n",
      "[89]\ttrain-auc:0.999778\teval-auc:0.823019\n",
      "[90]\ttrain-auc:0.999803\teval-auc:0.826038\n",
      "[91]\ttrain-auc:0.999803\teval-auc:0.82717\n",
      "[92]\ttrain-auc:0.999803\teval-auc:0.826415\n",
      "[93]\ttrain-auc:0.999815\teval-auc:0.824151\n",
      "[94]\ttrain-auc:0.999852\teval-auc:0.826792\n",
      "[95]\ttrain-auc:0.999864\teval-auc:0.824906\n",
      "[96]\ttrain-auc:0.999864\teval-auc:0.825283\n",
      "[97]\ttrain-auc:0.999852\teval-auc:0.828302\n",
      "[98]\ttrain-auc:0.999864\teval-auc:0.826792\n",
      "[99]\ttrain-auc:0.999926\teval-auc:0.829811\n"
     ]
    }
   ],
   "source": [
    "#baseline xgboost\n",
    "params = {\"objective\":\"binary:logistic\",\n",
    "          \"booster\":\"gbtree\",\n",
    "          \"eta\":0.1,\n",
    "          \"max_depth\": 10,\n",
    "         \"subsample\":0.75,\n",
    "          \"silent\":0,\n",
    "         \"seed\":7,\n",
    "         \"lambda\":5,\n",
    "         \"alpha\":5,\n",
    "         \"eval_metric\":\"auc\"}\n",
    "\n",
    "num_boost_round = 100\n",
    "\n",
    "x_tr = x_train\n",
    "y_tr = y_train\n",
    "\n",
    "dtrain = xgb.DMatrix(x_tr, y_tr)\n",
    "dvalid = xgb.DMatrix(x_val, y_val)\n",
    "\n",
    "watchlist = [(dtrain, 'train'), (dvalid, 'eval')]\n",
    "\n",
    "booster = xgb.train(params, dtrain, num_boost_round, evals = watchlist)\n",
    "\n",
    "training_probs = booster.predict(xgb.DMatrix(x_train))\n",
    "probs = []\n",
    "for i in range(len(training_probs)):\n",
    "    probs.append(training_probs[i])\n",
    "\n",
    "check = booster.predict(xgb.DMatrix(x_val))\n",
    "check_values = []\n",
    "for i in range(len(check)):\n",
    "    check_values.append(check[i])"
   ]
  },
  {
   "cell_type": "code",
   "execution_count": 156,
   "metadata": {
    "collapsed": true
   },
   "outputs": [],
   "source": [
    "#reverse conversion into original labels\n",
    "\n",
    "def reverse_xgb(data):\n",
    "    if data == 0:\n",
    "        data = 1\n",
    "    else:\n",
    "        data = 2\n",
    "    return data\n",
    "        \n",
    "y_train['LABEL'] = y_train['LABEL'].map(lambda x: reverse_xgb(x))\n",
    "y_test['LABEL'] = y_test['LABEL'].map(lambda x: reverse_xgb(x))\n",
    "y_val['LABEL'] = y_val['LABEL'].map(lambda x: reverse_xgb(x))"
   ]
  },
  {
   "cell_type": "code",
   "execution_count": 157,
   "metadata": {
    "collapsed": true
   },
   "outputs": [],
   "source": [
    "#creation of validation predictions\n",
    "\n",
    "validation = pd.DataFrame({'LABEL':check_values})"
   ]
  },
  {
   "cell_type": "code",
   "execution_count": 158,
   "metadata": {
    "collapsed": true
   },
   "outputs": [],
   "source": [
    "def converter(thresh, data):\n",
    "    if data <= thresh:\n",
    "        data = 1\n",
    "    else:\n",
    "        data = 2\n",
    "    return data\n",
    "\n",
    "validation['LABEL'] = validation['LABEL'].map(lambda x: converter(0.05, x))"
   ]
  },
  {
   "cell_type": "code",
   "execution_count": 159,
   "metadata": {},
   "outputs": [
    {
     "data": {
      "text/html": [
       "<div>\n",
       "<style>\n",
       "    .dataframe thead tr:only-child th {\n",
       "        text-align: right;\n",
       "    }\n",
       "\n",
       "    .dataframe thead th {\n",
       "        text-align: left;\n",
       "    }\n",
       "\n",
       "    .dataframe tbody tr th {\n",
       "        vertical-align: top;\n",
       "    }\n",
       "</style>\n",
       "<table border=\"1\" class=\"dataframe\">\n",
       "  <thead>\n",
       "    <tr style=\"text-align: right;\">\n",
       "      <th></th>\n",
       "      <th>LABEL</th>\n",
       "    </tr>\n",
       "  </thead>\n",
       "  <tbody>\n",
       "    <tr>\n",
       "      <th>0</th>\n",
       "      <td>1</td>\n",
       "    </tr>\n",
       "    <tr>\n",
       "      <th>1</th>\n",
       "      <td>1</td>\n",
       "    </tr>\n",
       "    <tr>\n",
       "      <th>2</th>\n",
       "      <td>1</td>\n",
       "    </tr>\n",
       "    <tr>\n",
       "      <th>3</th>\n",
       "      <td>1</td>\n",
       "    </tr>\n",
       "    <tr>\n",
       "      <th>4</th>\n",
       "      <td>1</td>\n",
       "    </tr>\n",
       "  </tbody>\n",
       "</table>\n",
       "</div>"
      ],
      "text/plain": [
       "   LABEL\n",
       "0      1\n",
       "1      1\n",
       "2      1\n",
       "3      1\n",
       "4      1"
      ]
     },
     "execution_count": 159,
     "metadata": {},
     "output_type": "execute_result"
    }
   ],
   "source": [
    "validation.head()"
   ]
  },
  {
   "cell_type": "code",
   "execution_count": 160,
   "metadata": {},
   "outputs": [
    {
     "name": "stdout",
     "output_type": "stream",
     "text": [
      "0.97794822627\n"
     ]
    },
    {
     "data": {
      "text/plain": [
       "array([[510,  20],\n",
       "       [  3,   2]])"
      ]
     },
     "execution_count": 160,
     "metadata": {},
     "output_type": "execute_result"
    }
   ],
   "source": [
    "#performance on validation set\n",
    "\n",
    "print(f1_score(y_val, validation))\n",
    "confusion_matrix(y_val, validation, labels = [1,2])"
   ]
  },
  {
   "cell_type": "code",
   "execution_count": 161,
   "metadata": {},
   "outputs": [
    {
     "name": "stdout",
     "output_type": "stream",
     "text": [
      "             precision    recall  f1-score   support\n",
      "\n",
      "          1       0.99      0.96      0.98       530\n",
      "          2       0.09      0.40      0.15         5\n",
      "\n",
      "avg / total       0.99      0.96      0.97       535\n",
      "\n"
     ]
    }
   ],
   "source": [
    "print(classification_report(y_val, validation))"
   ]
  },
  {
   "cell_type": "code",
   "execution_count": 162,
   "metadata": {
    "collapsed": true
   },
   "outputs": [],
   "source": [
    "#creation of training set predictions\n",
    "\n",
    "train_probs = pd.DataFrame({'LABEL':probs})\n",
    "train_probs['LABEL'] = train_probs['LABEL'].map(lambda x: converter(0.05, x))"
   ]
  },
  {
   "cell_type": "code",
   "execution_count": 163,
   "metadata": {},
   "outputs": [
    {
     "name": "stdout",
     "output_type": "stream",
     "text": [
      "             precision    recall  f1-score   support\n",
      "\n",
      "          1       1.00      0.99      0.99      3002\n",
      "          2       0.40      1.00      0.57        27\n",
      "\n",
      "avg / total       0.99      0.99      0.99      3029\n",
      "\n"
     ]
    }
   ],
   "source": [
    "#performance on training set\n",
    "\n",
    "print(classification_report(y_train, train_probs))"
   ]
  },
  {
   "cell_type": "code",
   "execution_count": 164,
   "metadata": {},
   "outputs": [
    {
     "data": {
      "text/plain": [
       "array([[2961,   41],\n",
       "       [   0,   27]])"
      ]
     },
     "execution_count": 164,
     "metadata": {},
     "output_type": "execute_result"
    }
   ],
   "source": [
    "confusion_matrix(y_train, train_probs)"
   ]
  },
  {
   "cell_type": "code",
   "execution_count": 165,
   "metadata": {
    "collapsed": true
   },
   "outputs": [],
   "source": [
    "#creation of test set predictions\n",
    "\n",
    "tester = booster.predict(xgb.DMatrix(x_test))\n",
    "test_values = []\n",
    "for i in range(len(tester)):\n",
    "    test_values.append(tester[i])"
   ]
  },
  {
   "cell_type": "code",
   "execution_count": 166,
   "metadata": {
    "collapsed": true
   },
   "outputs": [],
   "source": [
    "test_pred = pd.DataFrame({'LABEL':test_values})\n",
    "test_pred['LABEL'] = test_pred['LABEL'].map(lambda x: converter(0.05, x))"
   ]
  },
  {
   "cell_type": "code",
   "execution_count": 167,
   "metadata": {},
   "outputs": [
    {
     "name": "stdout",
     "output_type": "stream",
     "text": [
      "             precision    recall  f1-score   support\n",
      "\n",
      "          1       1.00      0.95      0.97       395\n",
      "          2       0.00      0.00      0.00         1\n",
      "\n",
      "avg / total       0.99      0.95      0.97       396\n",
      "\n"
     ]
    }
   ],
   "source": [
    "#performance on test set\n",
    "\n",
    "print(classification_report(y_test, test_pred))"
   ]
  },
  {
   "cell_type": "code",
   "execution_count": 168,
   "metadata": {},
   "outputs": [
    {
     "data": {
      "text/plain": [
       "array([[375,  20],\n",
       "       [  1,   0]])"
      ]
     },
     "execution_count": 168,
     "metadata": {},
     "output_type": "execute_result"
    }
   ],
   "source": [
    "confusion_matrix(y_test, test_pred)"
   ]
  }
 ],
 "metadata": {
  "kernelspec": {
   "display_name": "Python 3",
   "language": "python",
   "name": "python3"
  },
  "language_info": {
   "codemirror_mode": {
    "name": "ipython",
    "version": 3
   },
   "file_extension": ".py",
   "mimetype": "text/x-python",
   "name": "python",
   "nbconvert_exporter": "python",
   "pygments_lexer": "ipython3",
   "version": "3.6.1"
  }
 },
 "nbformat": 4,
 "nbformat_minor": 2
}
